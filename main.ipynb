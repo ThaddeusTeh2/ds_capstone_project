{
 "cells": [
  {
   "cell_type": "markdown",
   "id": "123523aa",
   "metadata": {},
   "source": [
    "# Assessing the Impact of Product Specifications and Brand Origin on the Pricing of Mechanical Keyboards in 2025\n",
    "\n",
    "## Problem Statement\n",
    "Global supply chains have undergone significant political and economic disruption in recent years, particularly in the technology and consumer electronics industries. \n",
    "\n",
    "Mechanical keyboards, an essential component of modern computing and creative work, have become a notable example of how Chinese manufacturers have entered the enthusiast market with competitive alternatives.\n",
    "\n",
    "Historically, branding and Western design heritage contributed greatly to pricing. However, with increased transparency and direct-to-consumer models from Chinese factories, this may no longer hold true.\n",
    "\n",
    "## Goal\n",
    "This project aims to use mechanical keyboard listings as a case study to explore whether technical specifications and country/brand of origin still meaningfully influence pricing in 2025.\n",
    "\n",
    "## Hypothesis\n",
    "H₀ (Null Hypothesis): Product specifications and brand origin (e.g., Chinese vs Western brands) have no significant effect on price.\n",
    "\n",
    "H₁ (Alternative Hypothesis): Product specifications and brand origin significantly affect price.\n",
    "\n",
    "## Objectives\n",
    "- Determine which features (e.g., switch type, brand, layout, connectivity) influence pricing.\n",
    "\n",
    "- Analyze whether branding and origin remain significant predictors of pricing.\n",
    "\n",
    "- Provide insights into broader trends of consumer electronics pricing post-supply-chain globalization.\n",
    "\n"
   ]
  },
  {
   "cell_type": "markdown",
   "id": "217f6e37",
   "metadata": {},
   "source": [
    "# Seeing what data we are working with"
   ]
  },
  {
   "cell_type": "code",
   "execution_count": 30,
   "id": "a3f17b08",
   "metadata": {},
   "outputs": [],
   "source": [
    "import pandas as pd\n",
    "import numpy as np\n",
    "\n",
    "df = pd.read_csv('keebfinder_keyboards_rev8.csv')\n"
   ]
  },
  {
   "cell_type": "code",
   "execution_count": 31,
   "id": "6131a474",
   "metadata": {},
   "outputs": [
    {
     "data": {
      "text/plain": [
       "(2368, 13)"
      ]
     },
     "execution_count": 31,
     "metadata": {},
     "output_type": "execute_result"
    }
   ],
   "source": [
    "df.shape"
   ]
  },
  {
   "cell_type": "code",
   "execution_count": 32,
   "id": "19d6fdbf",
   "metadata": {},
   "outputs": [
    {
     "data": {
      "text/plain": [
       "category         0\n",
       "brand            0\n",
       "title            0\n",
       "price            0\n",
       "layout           0\n",
       "mount            0\n",
       "hall_effect      0\n",
       "hotswap          0\n",
       "case_material    0\n",
       "backlight        0\n",
       "connectivity     0\n",
       "screen           0\n",
       "knob             0\n",
       "dtype: int64"
      ]
     },
     "execution_count": 32,
     "metadata": {},
     "output_type": "execute_result"
    }
   ],
   "source": [
    "df.isna().sum()"
   ]
  },
  {
   "cell_type": "markdown",
   "id": "6d2f896d",
   "metadata": {},
   "source": [
    "# Preprocessing\n",
    "- knowing there are missing values, determine what they are and deal with them\n",
    "- Find out how to categorize brands to define what is high end, mid tier, or low tier, since this was not included in the dataset\n",
    "- clean & normalize data to be prepared to be shoved into the ML model"
   ]
  },
  {
   "cell_type": "code",
   "execution_count": 33,
   "id": "20964dda",
   "metadata": {},
   "outputs": [
    {
     "data": {
      "text/plain": [
       "array(['60%', '65%', 'Unknown', '80%', '100%', '75%', '96%', '98%', '95%',\n",
       "       '40%', '68%', '64%', '66%', '85%', '90%', '70%', '97%', '50%',\n",
       "       '87%', '78%', '84%'], dtype=object)"
      ]
     },
     "execution_count": 33,
     "metadata": {},
     "output_type": "execute_result"
    }
   ],
   "source": [
    "# check for all the missing values in the layout column\n",
    "df['layout'].unique()"
   ]
  },
  {
   "cell_type": "code",
   "execution_count": 34,
   "id": "6e37039e",
   "metadata": {},
   "outputs": [],
   "source": [
    "#df['layout'] = df['layout'].str.replace(',', '')"
   ]
  },
  {
   "cell_type": "code",
   "execution_count": 35,
   "id": "45677ada",
   "metadata": {},
   "outputs": [
    {
     "data": {
      "text/plain": [
       "array(['Plate Mount', 'Gasket Mount', 'Top Mount', 'Unknown',\n",
       "       'Tray Mount', 'Sandwich Mount', 'Bottom Mount', 'PCB Mount'],\n",
       "      dtype=object)"
      ]
     },
     "execution_count": 35,
     "metadata": {},
     "output_type": "execute_result"
    }
   ],
   "source": [
    "#check for all the unique values in the mount column\n",
    "df['mount'].unique()"
   ]
  },
  {
   "cell_type": "code",
   "execution_count": 36,
   "id": "fff95a82",
   "metadata": {},
   "outputs": [],
   "source": [
    "#df['mount'] = df['mount'].str.replace(',', '')"
   ]
  },
  {
   "cell_type": "code",
   "execution_count": 37,
   "id": "2e375960",
   "metadata": {},
   "outputs": [
    {
     "data": {
      "text/plain": [
       "array(['Metal (likely Aluminium)', 'Unspecified(likely ABS plastic)',\n",
       "       'PCB Mount'], dtype=object)"
      ]
     },
     "execution_count": 37,
     "metadata": {},
     "output_type": "execute_result"
    }
   ],
   "source": [
    "df['case_material'].unique()"
   ]
  },
  {
   "cell_type": "code",
   "execution_count": 38,
   "id": "d1599118",
   "metadata": {},
   "outputs": [],
   "source": [
    "#df['case_material'] = df['case_material'].str.replace(',', '')"
   ]
  },
  {
   "cell_type": "code",
   "execution_count": 39,
   "id": "ef6aa6be",
   "metadata": {},
   "outputs": [
    {
     "data": {
      "text/plain": [
       "array(['Wired', 'Unknown', 'Wireless'], dtype=object)"
      ]
     },
     "execution_count": 39,
     "metadata": {},
     "output_type": "execute_result"
    }
   ],
   "source": [
    "# check for all the unique values in the 'connectivity' column\n",
    "df['connectivity'].unique()"
   ]
  },
  {
   "cell_type": "code",
   "execution_count": 40,
   "id": "465fae28",
   "metadata": {},
   "outputs": [],
   "source": [
    "#df['connectivity'] = df['connectivity'].str.replace(',', '')"
   ]
  },
  {
   "cell_type": "code",
   "execution_count": 41,
   "id": "7429c010",
   "metadata": {},
   "outputs": [
    {
     "name": "stderr",
     "output_type": "stream",
     "text": [
      "/var/folders/04/wngkl13j3hj0s528zj5lpnj00000gn/T/ipykernel_2994/2699668920.py:2: FutureWarning: A value is trying to be set on a copy of a DataFrame or Series through chained assignment using an inplace method.\n",
      "The behavior will change in pandas 3.0. This inplace method will never work because the intermediate object on which we are setting values always behaves as a copy.\n",
      "\n",
      "For example, when doing 'df[col].method(value, inplace=True)', try using 'df.method({col: value}, inplace=True)' or df[col] = df[col].method(value) instead, to perform the operation inplace on the original object.\n",
      "\n",
      "\n",
      "  df['layout'].fillna('Unknown', inplace=True)\n",
      "/var/folders/04/wngkl13j3hj0s528zj5lpnj00000gn/T/ipykernel_2994/2699668920.py:3: FutureWarning: A value is trying to be set on a copy of a DataFrame or Series through chained assignment using an inplace method.\n",
      "The behavior will change in pandas 3.0. This inplace method will never work because the intermediate object on which we are setting values always behaves as a copy.\n",
      "\n",
      "For example, when doing 'df[col].method(value, inplace=True)', try using 'df.method({col: value}, inplace=True)' or df[col] = df[col].method(value) instead, to perform the operation inplace on the original object.\n",
      "\n",
      "\n",
      "  df['mount'].fillna('Unknown', inplace=True)\n",
      "/var/folders/04/wngkl13j3hj0s528zj5lpnj00000gn/T/ipykernel_2994/2699668920.py:4: FutureWarning: A value is trying to be set on a copy of a DataFrame or Series through chained assignment using an inplace method.\n",
      "The behavior will change in pandas 3.0. This inplace method will never work because the intermediate object on which we are setting values always behaves as a copy.\n",
      "\n",
      "For example, when doing 'df[col].method(value, inplace=True)', try using 'df.method({col: value}, inplace=True)' or df[col] = df[col].method(value) instead, to perform the operation inplace on the original object.\n",
      "\n",
      "\n",
      "  df['case_material'].fillna('Unknown', inplace=True)\n",
      "/var/folders/04/wngkl13j3hj0s528zj5lpnj00000gn/T/ipykernel_2994/2699668920.py:5: FutureWarning: A value is trying to be set on a copy of a DataFrame or Series through chained assignment using an inplace method.\n",
      "The behavior will change in pandas 3.0. This inplace method will never work because the intermediate object on which we are setting values always behaves as a copy.\n",
      "\n",
      "For example, when doing 'df[col].method(value, inplace=True)', try using 'df.method({col: value}, inplace=True)' or df[col] = df[col].method(value) instead, to perform the operation inplace on the original object.\n",
      "\n",
      "\n",
      "  df['connectivity'].fillna('Unknown', inplace=True)\n"
     ]
    }
   ],
   "source": [
    "# fill missing values with 'Unknown' for categorical columns\n",
    "df['layout'].fillna('Unknown', inplace=True)\n",
    "df['mount'].fillna('Unknown', inplace=True)\n",
    "df['case_material'].fillna('Unknown', inplace=True)\n",
    "df['connectivity'].fillna('Unknown', inplace=True)"
   ]
  },
  {
   "cell_type": "code",
   "execution_count": 42,
   "id": "29dd7e8b",
   "metadata": {},
   "outputs": [],
   "source": [
    "# minor mistake in the above code, lazy fix ^^\n",
    "#df['case_material'].replace(to_replace=\"Unknown\",\n",
    "#         value=\"Unspecified(likely ABS plastic)\", inplace=True)\n",
    "#df['case_material'].replace(to_replace=\"Alu case\",\n",
    "#         value=\"Metal (likely Aluminium)\", inplace=True)\n",
    "#df.tail()\n"
   ]
  },
  {
   "cell_type": "code",
   "execution_count": 43,
   "id": "a2e60247",
   "metadata": {},
   "outputs": [],
   "source": [
    "# # extract brand from title n make a new column\n",
    "# df['brand'] = df['title'].str.split().str[0]\n",
    "# # df.head()\n",
    "\n",
    "# #reorder the columns to make brand go first\n",
    "# df = df[['brand', 'title', 'price', 'layout', 'mount', 'hall_effect', 'hotswap', 'case_material', 'backlight', 'connectivity', 'screen', 'knob']]\n",
    "# df.head()\n",
    "\n"
   ]
  },
  {
   "cell_type": "markdown",
   "id": "509abff1",
   "metadata": {},
   "source": [
    "# categorizing brands"
   ]
  },
  {
   "cell_type": "markdown",
   "id": "45c99f28",
   "metadata": {},
   "source": [
    "## Price-Based Categorization with Brand Context\n",
    "\n",
    "FLOW\n",
    "\n",
    "- Calculate the average price for each brand\n",
    "\n",
    "- Calculate the price range (min, max, standard deviation) for each brand\n",
    "\n",
    "Use these metrics to categorize brands\n",
    "\n",
    "This would help account for brands that offer both high-end and budget options. For example:\n",
    "- If a brand's average price is high but has a wide range, it might be a \"premium\" brand that also offers budget options\n",
    "- If a brand's average price is low with a narrow range, it's likely a \"budget\" brand\n",
    "- If a brand's average price is moderate with some variation, it might be \"midrange\"\n"
   ]
  },
  {
   "cell_type": "code",
   "execution_count": 44,
   "id": "881ec360",
   "metadata": {},
   "outputs": [],
   "source": [
    "# df = df.drop('brand_category', axis=1)\n",
    "\n",
    "# df.to_csv('keebfinder_keyboards_rev7.csv', index=False)\n",
    "\n",
    "# #new brand categorization approach (!GPT SUGGESTION)\n",
    "# # Calculate brand statistics (!GPT CODE)\n",
    "\n",
    "# brand_stats = df.groupby('brand').agg({\n",
    "#     'price': ['mean', 'min', 'max', 'std', 'count']\n",
    "# }).reset_index()\n",
    "\n",
    "# # # name cols\n",
    "# brand_stats.columns = ['brand', 'avg_price', 'min_price', 'max_price', 'price_std', 'product_count']\n",
    "\n",
    "# df_brand_stats = brand_stats.copy()\n",
    "\n",
    "# df_brand_stats.to_csv('brand_stats.csv', index=False)\n",
    "\n",
    "# # Calculate price percentiles for the entire dataset (!GPT CODE)\n",
    "\n",
    "# # First, convert price strings to numeric values (removing '$' and ',' characters)\n",
    "# df['price_numeric'] = df['price'].str.replace('$', '').str.replace(',', '').astype(float)\n",
    "\n",
    "# price_percentiles = df['price_numeric'].quantile([0.33, 0.66]) (!GPT CODE)\n",
    "\n",
    "# # Define brand categories based on multiple metrics (!GPT SUGGESTION)\n",
    "\n",
    "# (!GPT CODE)\n",
    "# def categorize_brand(row):\n",
    "#     avg_price = row['avg_price']\n",
    "#     price_std = row['price_std']\n",
    "#     price_range = row['max_price'] - row['min_price']\n",
    "    \n",
    "#     # Premium: High average price OR wide price range with high max\n",
    "\n",
    "#     if avg_price > price_percentiles[0.66] or (price_range > 100 and row['max_price'] > price_percentiles[0.66]):\n",
    "#         return 'premium'\n",
    "#     # Budget: Low average price AND narrow price range\n",
    "\n",
    "#     elif avg_price < price_percentiles[0.33] and price_range < 50:\n",
    "#         return 'budget'\n",
    "#     # Midrange: Everything else\n",
    "\n",
    "#     else:\n",
    "#         return 'midrange'\n",
    "\n",
    "# # apply cats\n",
    "# brand_stats['category'] = brand_stats.apply(categorize_brand, axis=1)\n",
    "\n",
    "# # results\n",
    "# print(\"\\nPrice Percentiles:\")\n",
    "# print(f\"33rd percentile: ${price_percentiles[0.33]:.2f}\")\n",
    "# print(f\"66th percentile: ${price_percentiles[0.66]:.2f}\")\n",
    "\n",
    "# print(\"\\nBrand Categories:\")\n",
    "# print(brand_stats[['brand', 'category', 'avg_price', 'min_price', 'max_price', 'product_count']].sort_values('avg_price', ascending=False))\n",
    "\n",
    "# # ddd cats back 2 main dataframe\n",
    "# df = df.merge(brand_stats[['brand', 'category']], on='brand', how='left')\n",
    "\n",
    "# sahaja i want the brand_category to be the first column\n",
    "#df = df[['brand_category','brand', 'title', 'price', 'layout', 'mount', 'hall_effect', 'hotswap', 'case_material', 'backlight', 'connectivity', 'screen', 'knob']]\n",
    "\n",
    "# save new categorized dataset\n",
    "#df.to_csv('keebfinder_keyboards_rev8.csv', index=False)"
   ]
  },
  {
   "cell_type": "markdown",
   "id": "4ddbbe9e",
   "metadata": {},
   "source": [
    "# Preparing the data for EDA / ML model\n",
    "\n",
    "- Clean data, like columns price should be numeric, maybe layout convert to numeric too\n",
    "- Normalize the data, so binary cols like hall effect, hotswap, backlight, screen, knob can all be converted to numeric values, eg. 0 | 1"
   ]
  },
  {
   "cell_type": "code",
   "execution_count": 45,
   "id": "fde3b83b",
   "metadata": {},
   "outputs": [
    {
     "data": {
      "text/html": [
       "<div>\n",
       "<style scoped>\n",
       "    .dataframe tbody tr th:only-of-type {\n",
       "        vertical-align: middle;\n",
       "    }\n",
       "\n",
       "    .dataframe tbody tr th {\n",
       "        vertical-align: top;\n",
       "    }\n",
       "\n",
       "    .dataframe thead th {\n",
       "        text-align: right;\n",
       "    }\n",
       "</style>\n",
       "<table border=\"1\" class=\"dataframe\">\n",
       "  <thead>\n",
       "    <tr style=\"text-align: right;\">\n",
       "      <th></th>\n",
       "      <th>category</th>\n",
       "      <th>brand</th>\n",
       "      <th>title</th>\n",
       "      <th>price</th>\n",
       "      <th>layout</th>\n",
       "      <th>mount</th>\n",
       "      <th>hall_effect</th>\n",
       "      <th>hotswap</th>\n",
       "      <th>case_material</th>\n",
       "      <th>backlight</th>\n",
       "      <th>connectivity</th>\n",
       "      <th>screen</th>\n",
       "      <th>knob</th>\n",
       "    </tr>\n",
       "  </thead>\n",
       "  <tbody>\n",
       "    <tr>\n",
       "      <th>0</th>\n",
       "      <td>budget</td>\n",
       "      <td>0.01</td>\n",
       "      <td>0.01 Z62</td>\n",
       "      <td>$59</td>\n",
       "      <td>60%</td>\n",
       "      <td>Plate Mount</td>\n",
       "      <td>no</td>\n",
       "      <td>no</td>\n",
       "      <td>Metal (likely Aluminium)</td>\n",
       "      <td>yes</td>\n",
       "      <td>Wired</td>\n",
       "      <td>no</td>\n",
       "      <td>no</td>\n",
       "    </tr>\n",
       "    <tr>\n",
       "      <th>1</th>\n",
       "      <td>budget</td>\n",
       "      <td>0.01</td>\n",
       "      <td>0.01 Z62 Blank Blank</td>\n",
       "      <td>$59</td>\n",
       "      <td>60%</td>\n",
       "      <td>Plate Mount</td>\n",
       "      <td>no</td>\n",
       "      <td>no</td>\n",
       "      <td>Metal (likely Aluminium)</td>\n",
       "      <td>yes</td>\n",
       "      <td>Wired</td>\n",
       "      <td>no</td>\n",
       "      <td>no</td>\n",
       "    </tr>\n",
       "    <tr>\n",
       "      <th>2</th>\n",
       "      <td>premium</td>\n",
       "      <td>80retros</td>\n",
       "      <td>80retros GB65 X Click Inc</td>\n",
       "      <td>$169</td>\n",
       "      <td>65%</td>\n",
       "      <td>Gasket Mount</td>\n",
       "      <td>no</td>\n",
       "      <td>yes</td>\n",
       "      <td>Metal (likely Aluminium)</td>\n",
       "      <td>no</td>\n",
       "      <td>Wired</td>\n",
       "      <td>no</td>\n",
       "      <td>no</td>\n",
       "    </tr>\n",
       "    <tr>\n",
       "      <th>3</th>\n",
       "      <td>premium</td>\n",
       "      <td>80retros</td>\n",
       "      <td>80retros Pad Numpad X Click Inc</td>\n",
       "      <td>$129</td>\n",
       "      <td>Unknown</td>\n",
       "      <td>Gasket Mount</td>\n",
       "      <td>no</td>\n",
       "      <td>yes</td>\n",
       "      <td>Metal (likely Aluminium)</td>\n",
       "      <td>no</td>\n",
       "      <td>Unknown</td>\n",
       "      <td>no</td>\n",
       "      <td>no</td>\n",
       "    </tr>\n",
       "    <tr>\n",
       "      <th>4</th>\n",
       "      <td>midrange</td>\n",
       "      <td>8BitDo</td>\n",
       "      <td>8BitDo Retro</td>\n",
       "      <td>$119</td>\n",
       "      <td>80%</td>\n",
       "      <td>Top Mount</td>\n",
       "      <td>no</td>\n",
       "      <td>yes</td>\n",
       "      <td>Metal (likely Aluminium)</td>\n",
       "      <td>no</td>\n",
       "      <td>Wireless</td>\n",
       "      <td>no</td>\n",
       "      <td>yes</td>\n",
       "    </tr>\n",
       "    <tr>\n",
       "      <th>...</th>\n",
       "      <td>...</td>\n",
       "      <td>...</td>\n",
       "      <td>...</td>\n",
       "      <td>...</td>\n",
       "      <td>...</td>\n",
       "      <td>...</td>\n",
       "      <td>...</td>\n",
       "      <td>...</td>\n",
       "      <td>...</td>\n",
       "      <td>...</td>\n",
       "      <td>...</td>\n",
       "      <td>...</td>\n",
       "      <td>...</td>\n",
       "    </tr>\n",
       "    <tr>\n",
       "      <th>2363</th>\n",
       "      <td>premium</td>\n",
       "      <td>zFrontier</td>\n",
       "      <td>zFrontier Y2K 76 Metropolis</td>\n",
       "      <td>$215</td>\n",
       "      <td>75%</td>\n",
       "      <td>Top Mount</td>\n",
       "      <td>no</td>\n",
       "      <td>yes</td>\n",
       "      <td>Unspecified(likely ABS plastic)</td>\n",
       "      <td>no</td>\n",
       "      <td>Unknown</td>\n",
       "      <td>yes</td>\n",
       "      <td>yes</td>\n",
       "    </tr>\n",
       "    <tr>\n",
       "      <th>2364</th>\n",
       "      <td>premium</td>\n",
       "      <td>zFrontier</td>\n",
       "      <td>zFrontier Y2K 76 Redline</td>\n",
       "      <td>$195</td>\n",
       "      <td>75%</td>\n",
       "      <td>Top Mount</td>\n",
       "      <td>no</td>\n",
       "      <td>yes</td>\n",
       "      <td>Unspecified(likely ABS plastic)</td>\n",
       "      <td>no</td>\n",
       "      <td>Unknown</td>\n",
       "      <td>yes</td>\n",
       "      <td>yes</td>\n",
       "    </tr>\n",
       "    <tr>\n",
       "      <th>2365</th>\n",
       "      <td>premium</td>\n",
       "      <td>zFrontier</td>\n",
       "      <td>zFrontier Y2K 76 Strong Spirit</td>\n",
       "      <td>$195</td>\n",
       "      <td>75%</td>\n",
       "      <td>Top Mount</td>\n",
       "      <td>no</td>\n",
       "      <td>yes</td>\n",
       "      <td>Unspecified(likely ABS plastic)</td>\n",
       "      <td>no</td>\n",
       "      <td>Unknown</td>\n",
       "      <td>yes</td>\n",
       "      <td>yes</td>\n",
       "    </tr>\n",
       "    <tr>\n",
       "      <th>2366</th>\n",
       "      <td>premium</td>\n",
       "      <td>zFrontier</td>\n",
       "      <td>zFrontier Y2K 76 Superuser</td>\n",
       "      <td>$165</td>\n",
       "      <td>75%</td>\n",
       "      <td>Top Mount</td>\n",
       "      <td>no</td>\n",
       "      <td>yes</td>\n",
       "      <td>Unspecified(likely ABS plastic)</td>\n",
       "      <td>yes</td>\n",
       "      <td>Unknown</td>\n",
       "      <td>yes</td>\n",
       "      <td>yes</td>\n",
       "    </tr>\n",
       "    <tr>\n",
       "      <th>2367</th>\n",
       "      <td>premium</td>\n",
       "      <td>zFrontier</td>\n",
       "      <td>zFrontier Y2K 76 Terror Below</td>\n",
       "      <td>$265</td>\n",
       "      <td>75%</td>\n",
       "      <td>Top Mount</td>\n",
       "      <td>no</td>\n",
       "      <td>yes</td>\n",
       "      <td>Unspecified(likely ABS plastic)</td>\n",
       "      <td>no</td>\n",
       "      <td>Unknown</td>\n",
       "      <td>yes</td>\n",
       "      <td>yes</td>\n",
       "    </tr>\n",
       "  </tbody>\n",
       "</table>\n",
       "<p>2368 rows × 13 columns</p>\n",
       "</div>"
      ],
      "text/plain": [
       "      category      brand                            title price   layout  \\\n",
       "0       budget       0.01                         0.01 Z62   $59      60%   \n",
       "1       budget       0.01             0.01 Z62 Blank Blank   $59      60%   \n",
       "2      premium   80retros        80retros GB65 X Click Inc  $169      65%   \n",
       "3      premium   80retros  80retros Pad Numpad X Click Inc  $129  Unknown   \n",
       "4     midrange     8BitDo                     8BitDo Retro  $119      80%   \n",
       "...        ...        ...                              ...   ...      ...   \n",
       "2363   premium  zFrontier      zFrontier Y2K 76 Metropolis  $215      75%   \n",
       "2364   premium  zFrontier         zFrontier Y2K 76 Redline  $195      75%   \n",
       "2365   premium  zFrontier   zFrontier Y2K 76 Strong Spirit  $195      75%   \n",
       "2366   premium  zFrontier       zFrontier Y2K 76 Superuser  $165      75%   \n",
       "2367   premium  zFrontier    zFrontier Y2K 76 Terror Below  $265      75%   \n",
       "\n",
       "             mount hall_effect hotswap                    case_material  \\\n",
       "0      Plate Mount          no      no         Metal (likely Aluminium)   \n",
       "1      Plate Mount          no      no         Metal (likely Aluminium)   \n",
       "2     Gasket Mount          no     yes         Metal (likely Aluminium)   \n",
       "3     Gasket Mount          no     yes         Metal (likely Aluminium)   \n",
       "4        Top Mount          no     yes         Metal (likely Aluminium)   \n",
       "...            ...         ...     ...                              ...   \n",
       "2363     Top Mount          no     yes  Unspecified(likely ABS plastic)   \n",
       "2364     Top Mount          no     yes  Unspecified(likely ABS plastic)   \n",
       "2365     Top Mount          no     yes  Unspecified(likely ABS plastic)   \n",
       "2366     Top Mount          no     yes  Unspecified(likely ABS plastic)   \n",
       "2367     Top Mount          no     yes  Unspecified(likely ABS plastic)   \n",
       "\n",
       "     backlight connectivity screen knob  \n",
       "0          yes        Wired     no   no  \n",
       "1          yes        Wired     no   no  \n",
       "2           no        Wired     no   no  \n",
       "3           no      Unknown     no   no  \n",
       "4           no     Wireless     no  yes  \n",
       "...        ...          ...    ...  ...  \n",
       "2363        no      Unknown    yes  yes  \n",
       "2364        no      Unknown    yes  yes  \n",
       "2365        no      Unknown    yes  yes  \n",
       "2366       yes      Unknown    yes  yes  \n",
       "2367        no      Unknown    yes  yes  \n",
       "\n",
       "[2368 rows x 13 columns]"
      ]
     },
     "execution_count": 45,
     "metadata": {},
     "output_type": "execute_result"
    }
   ],
   "source": [
    "df"
   ]
  },
  {
   "cell_type": "code",
   "execution_count": 46,
   "id": "d12204f7",
   "metadata": {},
   "outputs": [
    {
     "data": {
      "text/html": [
       "<div>\n",
       "<style scoped>\n",
       "    .dataframe tbody tr th:only-of-type {\n",
       "        vertical-align: middle;\n",
       "    }\n",
       "\n",
       "    .dataframe tbody tr th {\n",
       "        vertical-align: top;\n",
       "    }\n",
       "\n",
       "    .dataframe thead th {\n",
       "        text-align: right;\n",
       "    }\n",
       "</style>\n",
       "<table border=\"1\" class=\"dataframe\">\n",
       "  <thead>\n",
       "    <tr style=\"text-align: right;\">\n",
       "      <th></th>\n",
       "      <th>category</th>\n",
       "      <th>brand</th>\n",
       "      <th>title</th>\n",
       "      <th>price</th>\n",
       "      <th>layout</th>\n",
       "      <th>mount</th>\n",
       "      <th>hall_effect</th>\n",
       "      <th>hotswap</th>\n",
       "      <th>case_material</th>\n",
       "      <th>backlight</th>\n",
       "      <th>connectivity</th>\n",
       "      <th>screen</th>\n",
       "      <th>knob</th>\n",
       "    </tr>\n",
       "  </thead>\n",
       "  <tbody>\n",
       "    <tr>\n",
       "      <th>0</th>\n",
       "      <td>budget</td>\n",
       "      <td>0.01</td>\n",
       "      <td>0.01 Z62</td>\n",
       "      <td>59.0</td>\n",
       "      <td>60%</td>\n",
       "      <td>Plate Mount</td>\n",
       "      <td>no</td>\n",
       "      <td>no</td>\n",
       "      <td>Metal (likely Aluminium)</td>\n",
       "      <td>yes</td>\n",
       "      <td>Wired</td>\n",
       "      <td>no</td>\n",
       "      <td>no</td>\n",
       "    </tr>\n",
       "    <tr>\n",
       "      <th>1</th>\n",
       "      <td>budget</td>\n",
       "      <td>0.01</td>\n",
       "      <td>0.01 Z62 Blank Blank</td>\n",
       "      <td>59.0</td>\n",
       "      <td>60%</td>\n",
       "      <td>Plate Mount</td>\n",
       "      <td>no</td>\n",
       "      <td>no</td>\n",
       "      <td>Metal (likely Aluminium)</td>\n",
       "      <td>yes</td>\n",
       "      <td>Wired</td>\n",
       "      <td>no</td>\n",
       "      <td>no</td>\n",
       "    </tr>\n",
       "    <tr>\n",
       "      <th>2</th>\n",
       "      <td>premium</td>\n",
       "      <td>80retros</td>\n",
       "      <td>80retros GB65 X Click Inc</td>\n",
       "      <td>169.0</td>\n",
       "      <td>65%</td>\n",
       "      <td>Gasket Mount</td>\n",
       "      <td>no</td>\n",
       "      <td>yes</td>\n",
       "      <td>Metal (likely Aluminium)</td>\n",
       "      <td>no</td>\n",
       "      <td>Wired</td>\n",
       "      <td>no</td>\n",
       "      <td>no</td>\n",
       "    </tr>\n",
       "    <tr>\n",
       "      <th>3</th>\n",
       "      <td>premium</td>\n",
       "      <td>80retros</td>\n",
       "      <td>80retros Pad Numpad X Click Inc</td>\n",
       "      <td>129.0</td>\n",
       "      <td>Unknown</td>\n",
       "      <td>Gasket Mount</td>\n",
       "      <td>no</td>\n",
       "      <td>yes</td>\n",
       "      <td>Metal (likely Aluminium)</td>\n",
       "      <td>no</td>\n",
       "      <td>Unknown</td>\n",
       "      <td>no</td>\n",
       "      <td>no</td>\n",
       "    </tr>\n",
       "    <tr>\n",
       "      <th>4</th>\n",
       "      <td>midrange</td>\n",
       "      <td>8BitDo</td>\n",
       "      <td>8BitDo Retro</td>\n",
       "      <td>119.0</td>\n",
       "      <td>80%</td>\n",
       "      <td>Top Mount</td>\n",
       "      <td>no</td>\n",
       "      <td>yes</td>\n",
       "      <td>Metal (likely Aluminium)</td>\n",
       "      <td>no</td>\n",
       "      <td>Wireless</td>\n",
       "      <td>no</td>\n",
       "      <td>yes</td>\n",
       "    </tr>\n",
       "    <tr>\n",
       "      <th>...</th>\n",
       "      <td>...</td>\n",
       "      <td>...</td>\n",
       "      <td>...</td>\n",
       "      <td>...</td>\n",
       "      <td>...</td>\n",
       "      <td>...</td>\n",
       "      <td>...</td>\n",
       "      <td>...</td>\n",
       "      <td>...</td>\n",
       "      <td>...</td>\n",
       "      <td>...</td>\n",
       "      <td>...</td>\n",
       "      <td>...</td>\n",
       "    </tr>\n",
       "    <tr>\n",
       "      <th>2363</th>\n",
       "      <td>premium</td>\n",
       "      <td>zFrontier</td>\n",
       "      <td>zFrontier Y2K 76 Metropolis</td>\n",
       "      <td>215.0</td>\n",
       "      <td>75%</td>\n",
       "      <td>Top Mount</td>\n",
       "      <td>no</td>\n",
       "      <td>yes</td>\n",
       "      <td>Unspecified(likely ABS plastic)</td>\n",
       "      <td>no</td>\n",
       "      <td>Unknown</td>\n",
       "      <td>yes</td>\n",
       "      <td>yes</td>\n",
       "    </tr>\n",
       "    <tr>\n",
       "      <th>2364</th>\n",
       "      <td>premium</td>\n",
       "      <td>zFrontier</td>\n",
       "      <td>zFrontier Y2K 76 Redline</td>\n",
       "      <td>195.0</td>\n",
       "      <td>75%</td>\n",
       "      <td>Top Mount</td>\n",
       "      <td>no</td>\n",
       "      <td>yes</td>\n",
       "      <td>Unspecified(likely ABS plastic)</td>\n",
       "      <td>no</td>\n",
       "      <td>Unknown</td>\n",
       "      <td>yes</td>\n",
       "      <td>yes</td>\n",
       "    </tr>\n",
       "    <tr>\n",
       "      <th>2365</th>\n",
       "      <td>premium</td>\n",
       "      <td>zFrontier</td>\n",
       "      <td>zFrontier Y2K 76 Strong Spirit</td>\n",
       "      <td>195.0</td>\n",
       "      <td>75%</td>\n",
       "      <td>Top Mount</td>\n",
       "      <td>no</td>\n",
       "      <td>yes</td>\n",
       "      <td>Unspecified(likely ABS plastic)</td>\n",
       "      <td>no</td>\n",
       "      <td>Unknown</td>\n",
       "      <td>yes</td>\n",
       "      <td>yes</td>\n",
       "    </tr>\n",
       "    <tr>\n",
       "      <th>2366</th>\n",
       "      <td>premium</td>\n",
       "      <td>zFrontier</td>\n",
       "      <td>zFrontier Y2K 76 Superuser</td>\n",
       "      <td>165.0</td>\n",
       "      <td>75%</td>\n",
       "      <td>Top Mount</td>\n",
       "      <td>no</td>\n",
       "      <td>yes</td>\n",
       "      <td>Unspecified(likely ABS plastic)</td>\n",
       "      <td>yes</td>\n",
       "      <td>Unknown</td>\n",
       "      <td>yes</td>\n",
       "      <td>yes</td>\n",
       "    </tr>\n",
       "    <tr>\n",
       "      <th>2367</th>\n",
       "      <td>premium</td>\n",
       "      <td>zFrontier</td>\n",
       "      <td>zFrontier Y2K 76 Terror Below</td>\n",
       "      <td>265.0</td>\n",
       "      <td>75%</td>\n",
       "      <td>Top Mount</td>\n",
       "      <td>no</td>\n",
       "      <td>yes</td>\n",
       "      <td>Unspecified(likely ABS plastic)</td>\n",
       "      <td>no</td>\n",
       "      <td>Unknown</td>\n",
       "      <td>yes</td>\n",
       "      <td>yes</td>\n",
       "    </tr>\n",
       "  </tbody>\n",
       "</table>\n",
       "<p>2368 rows × 13 columns</p>\n",
       "</div>"
      ],
      "text/plain": [
       "      category      brand                            title  price   layout  \\\n",
       "0       budget       0.01                         0.01 Z62   59.0      60%   \n",
       "1       budget       0.01             0.01 Z62 Blank Blank   59.0      60%   \n",
       "2      premium   80retros        80retros GB65 X Click Inc  169.0      65%   \n",
       "3      premium   80retros  80retros Pad Numpad X Click Inc  129.0  Unknown   \n",
       "4     midrange     8BitDo                     8BitDo Retro  119.0      80%   \n",
       "...        ...        ...                              ...    ...      ...   \n",
       "2363   premium  zFrontier      zFrontier Y2K 76 Metropolis  215.0      75%   \n",
       "2364   premium  zFrontier         zFrontier Y2K 76 Redline  195.0      75%   \n",
       "2365   premium  zFrontier   zFrontier Y2K 76 Strong Spirit  195.0      75%   \n",
       "2366   premium  zFrontier       zFrontier Y2K 76 Superuser  165.0      75%   \n",
       "2367   premium  zFrontier    zFrontier Y2K 76 Terror Below  265.0      75%   \n",
       "\n",
       "             mount hall_effect hotswap                    case_material  \\\n",
       "0      Plate Mount          no      no         Metal (likely Aluminium)   \n",
       "1      Plate Mount          no      no         Metal (likely Aluminium)   \n",
       "2     Gasket Mount          no     yes         Metal (likely Aluminium)   \n",
       "3     Gasket Mount          no     yes         Metal (likely Aluminium)   \n",
       "4        Top Mount          no     yes         Metal (likely Aluminium)   \n",
       "...            ...         ...     ...                              ...   \n",
       "2363     Top Mount          no     yes  Unspecified(likely ABS plastic)   \n",
       "2364     Top Mount          no     yes  Unspecified(likely ABS plastic)   \n",
       "2365     Top Mount          no     yes  Unspecified(likely ABS plastic)   \n",
       "2366     Top Mount          no     yes  Unspecified(likely ABS plastic)   \n",
       "2367     Top Mount          no     yes  Unspecified(likely ABS plastic)   \n",
       "\n",
       "     backlight connectivity screen knob  \n",
       "0          yes        Wired     no   no  \n",
       "1          yes        Wired     no   no  \n",
       "2           no        Wired     no   no  \n",
       "3           no      Unknown     no   no  \n",
       "4           no     Wireless     no  yes  \n",
       "...        ...          ...    ...  ...  \n",
       "2363        no      Unknown    yes  yes  \n",
       "2364        no      Unknown    yes  yes  \n",
       "2365        no      Unknown    yes  yes  \n",
       "2366       yes      Unknown    yes  yes  \n",
       "2367        no      Unknown    yes  yes  \n",
       "\n",
       "[2368 rows x 13 columns]"
      ]
     },
     "execution_count": 46,
     "metadata": {},
     "output_type": "execute_result"
    }
   ],
   "source": [
    "# convert price to float\n",
    "df['price'] = df['price'].str.replace('$', '').astype(float)\n",
    "df"
   ]
  },
  {
   "cell_type": "code",
   "execution_count": 47,
   "id": "b7bcf072",
   "metadata": {},
   "outputs": [],
   "source": [
    "# convert binary cols\n",
    "df['hall_effect'] = df['hall_effect'].map({'yes': 1, 'no': 0})\n",
    "df['hotswap'] = df['hotswap'].map({'yes': 1, 'no': 0})\n",
    "df['backlight'] = df['backlight'].map({'yes': 1, 'no': 0})\n",
    "df['screen'] = df['screen'].map({'yes': 1, 'no': 0})\n",
    "df['knob'] = df['knob'].map({'yes': 1, 'no': 0})"
   ]
  },
  {
   "cell_type": "markdown",
   "id": "2c98c1b3",
   "metadata": {},
   "source": [
    "# EDA"
   ]
  },
  {
   "cell_type": "markdown",
   "id": "2e9207d3",
   "metadata": {},
   "source": [
    "## do features impact price?"
   ]
  },
  {
   "cell_type": "code",
   "execution_count": 48,
   "id": "4cd0bc53",
   "metadata": {},
   "outputs": [],
   "source": [
    "import seaborn as sns\n",
    "import matplotlib.pyplot as plt\n"
   ]
  },
  {
   "cell_type": "markdown",
   "id": "c86a733c",
   "metadata": {},
   "source": [
    "### binary cols"
   ]
  },
  {
   "cell_type": "code",
   "execution_count": 49,
   "id": "7a157dac",
   "metadata": {},
   "outputs": [
    {
     "data": {
      "image/png": "[encoded data removed]",
      "text/plain": [
       "<Figure size 1200x600 with 1 Axes>"
      ]
     },
     "metadata": {},
     "output_type": "display_data"
    }
   ],
   "source": [
    "# see if hotswap has an impact on price\n",
    "\n",
    "plt.figure(figsize=(12, 6))\n",
    "sns.boxplot(data=df, x='hotswap', y='price')\n",
    "plt.title('Hotswap vs Price')\n",
    "plt.show()"
   ]
  },
  {
   "cell_type": "markdown",
   "id": "2c0f3d4a",
   "metadata": {},
   "source": [
    "### categorical cols"
   ]
  },
  {
   "cell_type": "code",
   "execution_count": 50,
   "id": "e820ba07",
   "metadata": {},
   "outputs": [
    {
     "data": {
      "image/png": "[encoded data removed]",
      "text/plain": [
       "<Figure size 1200x600 with 1 Axes>"
      ]
     },
     "metadata": {},
     "output_type": "display_data"
    }
   ],
   "source": [
    "# see if layout has an impact on price\n",
    "plt.figure(figsize=(12, 6))\n",
    "sns.boxplot(data=df, x='layout', y='price')\n",
    "plt.title('Layout vs Price')\n",
    "plt.xticks(rotation=45)\n",
    "plt.show()"
   ]
  },
  {
   "cell_type": "code",
   "execution_count": 51,
   "id": "8e9a59ba",
   "metadata": {},
   "outputs": [
    {
     "data": {
      "image/png": "[encoded data removed]",
      "text/plain": [
       "<Figure size 1200x600 with 1 Axes>"
      ]
     },
     "metadata": {},
     "output_type": "display_data"
    }
   ],
   "source": [
    "# see if mount type has an impact on price\n",
    "plt.figure(figsize=(12, 6))\n",
    "sns.boxplot(data=df, x='mount', y='price')\n",
    "plt.title('Mount Type vs Price')\n",
    "plt.xticks(rotation=45)\n",
    "plt.show()"
   ]
  },
  {
   "cell_type": "code",
   "execution_count": 66,
   "id": "6394dd5b",
   "metadata": {},
   "outputs": [
    {
     "data": {
      "image/png": "[encoded data removed]",
      "text/plain": [
       "<Figure size 1200x600 with 1 Axes>"
      ]
     },
     "metadata": {},
     "output_type": "display_data"
    }
   ],
   "source": [
    "# see if case material has an impact on price\n",
    "plt.figure(figsize=(12, 6))\n",
    "sns.boxplot(data=df, x='case_material', y='price')\n",
    "plt.title('Case Material vs Price')\n",
    "plt.xticks(rotation=45)\n",
    "plt.show()"
   ]
  },
  {
   "cell_type": "code",
   "execution_count": 67,
   "id": "7648791e",
   "metadata": {},
   "outputs": [],
   "source": [
    "# Save the cleaned DataFrame to a new CSV file\n",
    "df.to_csv('keebfinder_keyboards_rev8.csv', index=False)"
   ]
  },
  {
   "cell_type": "code",
   "execution_count": null,
   "id": "965aee19",
   "metadata": {},
   "outputs": [],
   "source": []
  }
 ],
 "metadata": {
  "kernelspec": {
   "display_name": "base",
   "language": "python",
   "name": "python3"
  },
  "language_info": {
   "codemirror_mode": {
    "name": "ipython",
    "version": 3
   },
   "file_extension": ".py",
   "mimetype": "text/x-python",
   "name": "python",
   "nbconvert_exporter": "python",
   "pygments_lexer": "ipython3",
   "version": "3.12.2"
  }
 },
 "nbformat": 4,
 "nbformat_minor": 5
}

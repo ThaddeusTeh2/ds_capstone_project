{
 "cells": [
  {
   "cell_type": "markdown",
   "id": "123523aa",
   "metadata": {},
   "source": [
    "# Assessing the Impact of Product Specifications and Brand Origin on the Pricing of Mechanical Keyboards in 2025\n",
    "\n",
    "## Problem Statement\n",
    "Global supply chains have undergone significant political and economic disruption in recent years, particularly in the technology and consumer electronics industries. \n",
    "\n",
    "Mechanical keyboards, an essential component of modern computing and creative work, have become a notable example of how Chinese manufacturers have entered the enthusiast market with competitive alternatives.\n",
    "\n",
    "Historically, branding and Western design heritage contributed greatly to pricing. However, with increased transparency and direct-to-consumer models from Chinese factories, this may no longer hold true.\n",
    "\n",
    "## Goal\n",
    "This project aims to use mechanical keyboard listings as a case study to explore whether technical specifications and country/brand of origin still meaningfully influence pricing in 2025.\n",
    "\n",
    "## Hypothesis\n",
    "H₀ (Null Hypothesis): Product specifications and brand origin (e.g., Chinese vs Western brands) have no significant effect on price.\n",
    "\n",
    "H₁ (Alternative Hypothesis): Product specifications and brand origin significantly affect price.\n",
    "\n",
    "## Objectives\n",
    "- Determine which features (e.g., switch type, brand, layout, connectivity) influence pricing.\n",
    "\n",
    "- Analyze whether branding and origin remain significant predictors of pricing.\n",
    "\n",
    "- Provide insights into broader trends of consumer electronics pricing post-supply-chain globalization.\n",
    "\n"
   ]
  },
  {
   "cell_type": "markdown",
   "id": "217f6e37",
   "metadata": {},
   "source": [
    "# Seeing what data we are working with"
   ]
  },
  {
   "cell_type": "code",
   "execution_count": 1,
   "id": "a3f17b08",
   "metadata": {},
   "outputs": [
    {
     "data": {
      "text/html": [
       "<div>\n",
       "<style scoped>\n",
       "    .dataframe tbody tr th:only-of-type {\n",
       "        vertical-align: middle;\n",
       "    }\n",
       "\n",
       "    .dataframe tbody tr th {\n",
       "        vertical-align: top;\n",
       "    }\n",
       "\n",
       "    .dataframe thead th {\n",
       "        text-align: right;\n",
       "    }\n",
       "</style>\n",
       "<table border=\"1\" class=\"dataframe\">\n",
       "  <thead>\n",
       "    <tr style=\"text-align: right;\">\n",
       "      <th></th>\n",
       "      <th>brand_category</th>\n",
       "      <th>brand</th>\n",
       "      <th>title</th>\n",
       "      <th>price</th>\n",
       "      <th>layout</th>\n",
       "      <th>mount</th>\n",
       "      <th>hall_effect</th>\n",
       "      <th>hotswap</th>\n",
       "      <th>case_material</th>\n",
       "      <th>backlight</th>\n",
       "      <th>connectivity</th>\n",
       "      <th>screen</th>\n",
       "      <th>knob</th>\n",
       "    </tr>\n",
       "  </thead>\n",
       "  <tbody>\n",
       "    <tr>\n",
       "      <th>0</th>\n",
       "      <td>unknown</td>\n",
       "      <td>0.01</td>\n",
       "      <td>0.01 Z62</td>\n",
       "      <td>$59</td>\n",
       "      <td>60%</td>\n",
       "      <td>Plate Mount</td>\n",
       "      <td>no</td>\n",
       "      <td>no</td>\n",
       "      <td>Metal (likely Aluminium)</td>\n",
       "      <td>yes</td>\n",
       "      <td>Wired</td>\n",
       "      <td>no</td>\n",
       "      <td>no</td>\n",
       "    </tr>\n",
       "    <tr>\n",
       "      <th>1</th>\n",
       "      <td>unknown</td>\n",
       "      <td>0.01</td>\n",
       "      <td>0.01 Z62 Blank Blank</td>\n",
       "      <td>$59</td>\n",
       "      <td>60%</td>\n",
       "      <td>Plate Mount</td>\n",
       "      <td>no</td>\n",
       "      <td>no</td>\n",
       "      <td>Metal (likely Aluminium)</td>\n",
       "      <td>yes</td>\n",
       "      <td>Wired</td>\n",
       "      <td>no</td>\n",
       "      <td>no</td>\n",
       "    </tr>\n",
       "    <tr>\n",
       "      <th>2</th>\n",
       "      <td>unknown</td>\n",
       "      <td>80retros</td>\n",
       "      <td>80retros GB65 X Click Inc</td>\n",
       "      <td>$169</td>\n",
       "      <td>65%</td>\n",
       "      <td>Gasket Mount</td>\n",
       "      <td>no</td>\n",
       "      <td>yes</td>\n",
       "      <td>Metal (likely Aluminium)</td>\n",
       "      <td>no</td>\n",
       "      <td>Wired</td>\n",
       "      <td>no</td>\n",
       "      <td>no</td>\n",
       "    </tr>\n",
       "    <tr>\n",
       "      <th>3</th>\n",
       "      <td>unknown</td>\n",
       "      <td>80retros</td>\n",
       "      <td>80retros Pad Numpad X Click Inc</td>\n",
       "      <td>$129</td>\n",
       "      <td>Unknown</td>\n",
       "      <td>Gasket Mount</td>\n",
       "      <td>no</td>\n",
       "      <td>yes</td>\n",
       "      <td>Metal (likely Aluminium)</td>\n",
       "      <td>no</td>\n",
       "      <td>Unknown</td>\n",
       "      <td>no</td>\n",
       "      <td>no</td>\n",
       "    </tr>\n",
       "    <tr>\n",
       "      <th>4</th>\n",
       "      <td>unknown</td>\n",
       "      <td>8BitDo</td>\n",
       "      <td>8BitDo Retro</td>\n",
       "      <td>$119</td>\n",
       "      <td>80%</td>\n",
       "      <td>Top Mount</td>\n",
       "      <td>no</td>\n",
       "      <td>yes</td>\n",
       "      <td>Metal (likely Aluminium)</td>\n",
       "      <td>no</td>\n",
       "      <td>Wireless</td>\n",
       "      <td>no</td>\n",
       "      <td>yes</td>\n",
       "    </tr>\n",
       "  </tbody>\n",
       "</table>\n",
       "</div>"
      ],
      "text/plain": [
       "  brand_category     brand                            title price   layout  \\\n",
       "0        unknown      0.01                         0.01 Z62   $59      60%   \n",
       "1        unknown      0.01             0.01 Z62 Blank Blank   $59      60%   \n",
       "2        unknown  80retros        80retros GB65 X Click Inc  $169      65%   \n",
       "3        unknown  80retros  80retros Pad Numpad X Click Inc  $129  Unknown   \n",
       "4        unknown    8BitDo                     8BitDo Retro  $119      80%   \n",
       "\n",
       "          mount hall_effect hotswap             case_material backlight  \\\n",
       "0   Plate Mount          no      no  Metal (likely Aluminium)       yes   \n",
       "1   Plate Mount          no      no  Metal (likely Aluminium)       yes   \n",
       "2  Gasket Mount          no     yes  Metal (likely Aluminium)        no   \n",
       "3  Gasket Mount          no     yes  Metal (likely Aluminium)        no   \n",
       "4     Top Mount          no     yes  Metal (likely Aluminium)        no   \n",
       "\n",
       "  connectivity screen knob  \n",
       "0        Wired     no   no  \n",
       "1        Wired     no   no  \n",
       "2        Wired     no   no  \n",
       "3      Unknown     no   no  \n",
       "4     Wireless     no  yes  "
      ]
     },
     "execution_count": 26,
     "metadata": {},
     "output_type": "execute_result"
    }
   ],
   "source": [
    "import pandas as pd\n",
    "\n",
    "df = pd.read_csv('../ds_capstone_project/keebfinder_keyboards_rev6.csv')\n",
    "df_price_stats = pd.read_csv('../ds_capstone_project/brand_price_stats.csv')\n",
    "\n",
    "df.head()"
   ]
  },
  {
   "cell_type": "code",
   "execution_count": 2,
   "id": "6131a474",
   "metadata": {},
   "outputs": [
    {
     "data": {
      "text/plain": [
       "(2368, 13)"
      ]
     },
     "execution_count": 2,
     "metadata": {},
     "output_type": "execute_result"
    }
   ],
   "source": [
    "df.shape"
   ]
  },
  {
   "cell_type": "code",
   "execution_count": 3,
   "id": "19d6fdbf",
   "metadata": {},
   "outputs": [
    {
     "data": {
      "text/plain": [
       "brand_category    0\n",
       "brand             0\n",
       "title             0\n",
       "price             0\n",
       "layout            0\n",
       "mount             0\n",
       "hall_effect       0\n",
       "hotswap           0\n",
       "case_material     0\n",
       "backlight         0\n",
       "connectivity      0\n",
       "screen            0\n",
       "knob              0\n",
       "dtype: int64"
      ]
     },
     "execution_count": 3,
     "metadata": {},
     "output_type": "execute_result"
    }
   ],
   "source": [
    "df.isna().sum()"
   ]
  },
  {
   "cell_type": "markdown",
   "id": "6d2f896d",
   "metadata": {},
   "source": [
    "## Preprocessing\n",
    "- knowing there are missing values, determine what they are and deal with them"
   ]
  },
  {
   "cell_type": "code",
   "execution_count": 4,
   "id": "20964dda",
   "metadata": {},
   "outputs": [
    {
     "data": {
      "text/plain": [
       "array(['60%', '65%', 'Unknown', '80%', '100%', '75%', '96%', '98%', '95%',\n",
       "       '40%', '68%', '64%', '66%', '85%', '90%', '70%', '97%', '50%',\n",
       "       '87%', '78%', '84%'], dtype=object)"
      ]
     },
     "execution_count": 4,
     "metadata": {},
     "output_type": "execute_result"
    }
   ],
   "source": [
    "# check for all the missing values in the layout column\n",
    "df['layout'].unique()"
   ]
  },
  {
   "cell_type": "code",
   "execution_count": 5,
   "id": "6e37039e",
   "metadata": {},
   "outputs": [],
   "source": [
    "#df['layout'] = df['layout'].str.replace(',', '')"
   ]
  },
  {
   "cell_type": "code",
   "execution_count": 6,
   "id": "45677ada",
   "metadata": {},
   "outputs": [
    {
     "data": {
      "text/plain": [
       "array(['Plate Mount', 'Gasket Mount', 'Top Mount', 'Unknown',\n",
       "       'Tray Mount', 'Sandwich Mount', 'Bottom Mount', 'PCB Mount'],\n",
       "      dtype=object)"
      ]
     },
     "execution_count": 6,
     "metadata": {},
     "output_type": "execute_result"
    }
   ],
   "source": [
    "#check for all the unique values in the mount column\n",
    "df['mount'].unique()"
   ]
  },
  {
   "cell_type": "code",
   "execution_count": 7,
   "id": "fff95a82",
   "metadata": {},
   "outputs": [],
   "source": [
    "#df['mount'] = df['mount'].str.replace(',', '')"
   ]
  },
  {
   "cell_type": "code",
   "execution_count": 8,
   "id": "2e375960",
   "metadata": {},
   "outputs": [
    {
     "data": {
      "text/plain": [
       "array(['Metal (likely Aluminium)', 'Unspecified(likely ABS plastic)',\n",
       "       'PCB Mount'], dtype=object)"
      ]
     },
     "execution_count": 8,
     "metadata": {},
     "output_type": "execute_result"
    }
   ],
   "source": [
    "df['case_material'].unique()"
   ]
  },
  {
   "cell_type": "code",
   "execution_count": 9,
   "id": "d1599118",
   "metadata": {},
   "outputs": [],
   "source": [
    "#df['case_material'] = df['case_material'].str.replace(',', '')"
   ]
  },
  {
   "cell_type": "code",
   "execution_count": 10,
   "id": "ef6aa6be",
   "metadata": {},
   "outputs": [
    {
     "data": {
      "text/plain": [
       "array(['Wired', 'Unknown', 'Wireless'], dtype=object)"
      ]
     },
     "execution_count": 10,
     "metadata": {},
     "output_type": "execute_result"
    }
   ],
   "source": [
    "# check for all the unique values in the 'connectivity' column\n",
    "df['connectivity'].unique()"
   ]
  },
  {
   "cell_type": "code",
   "execution_count": 11,
   "id": "465fae28",
   "metadata": {},
   "outputs": [],
   "source": [
    "#df['connectivity'] = df['connectivity'].str.replace(',', '')"
   ]
  },
  {
   "cell_type": "code",
   "execution_count": 12,
   "id": "7429c010",
   "metadata": {},
   "outputs": [
    {
     "name": "stderr",
     "output_type": "stream",
     "text": [
      "/var/folders/04/wngkl13j3hj0s528zj5lpnj00000gn/T/ipykernel_7117/2699668920.py:2: FutureWarning: A value is trying to be set on a copy of a DataFrame or Series through chained assignment using an inplace method.\n",
      "The behavior will change in pandas 3.0. This inplace method will never work because the intermediate object on which we are setting values always behaves as a copy.\n",
      "\n",
      "For example, when doing 'df[col].method(value, inplace=True)', try using 'df.method({col: value}, inplace=True)' or df[col] = df[col].method(value) instead, to perform the operation inplace on the original object.\n",
      "\n",
      "\n",
      "  df['layout'].fillna('Unknown', inplace=True)\n",
      "/var/folders/04/wngkl13j3hj0s528zj5lpnj00000gn/T/ipykernel_7117/2699668920.py:3: FutureWarning: A value is trying to be set on a copy of a DataFrame or Series through chained assignment using an inplace method.\n",
      "The behavior will change in pandas 3.0. This inplace method will never work because the intermediate object on which we are setting values always behaves as a copy.\n",
      "\n",
      "For example, when doing 'df[col].method(value, inplace=True)', try using 'df.method({col: value}, inplace=True)' or df[col] = df[col].method(value) instead, to perform the operation inplace on the original object.\n",
      "\n",
      "\n",
      "  df['mount'].fillna('Unknown', inplace=True)\n",
      "/var/folders/04/wngkl13j3hj0s528zj5lpnj00000gn/T/ipykernel_7117/2699668920.py:4: FutureWarning: A value is trying to be set on a copy of a DataFrame or Series through chained assignment using an inplace method.\n",
      "The behavior will change in pandas 3.0. This inplace method will never work because the intermediate object on which we are setting values always behaves as a copy.\n",
      "\n",
      "For example, when doing 'df[col].method(value, inplace=True)', try using 'df.method({col: value}, inplace=True)' or df[col] = df[col].method(value) instead, to perform the operation inplace on the original object.\n",
      "\n",
      "\n",
      "  df['case_material'].fillna('Unknown', inplace=True)\n",
      "/var/folders/04/wngkl13j3hj0s528zj5lpnj00000gn/T/ipykernel_7117/2699668920.py:5: FutureWarning: A value is trying to be set on a copy of a DataFrame or Series through chained assignment using an inplace method.\n",
      "The behavior will change in pandas 3.0. This inplace method will never work because the intermediate object on which we are setting values always behaves as a copy.\n",
      "\n",
      "For example, when doing 'df[col].method(value, inplace=True)', try using 'df.method({col: value}, inplace=True)' or df[col] = df[col].method(value) instead, to perform the operation inplace on the original object.\n",
      "\n",
      "\n",
      "  df['connectivity'].fillna('Unknown', inplace=True)\n"
     ]
    }
   ],
   "source": [
    "# fill missing values with 'Unknown' for categorical columns\n",
    "df['layout'].fillna('Unknown', inplace=True)\n",
    "df['mount'].fillna('Unknown', inplace=True)\n",
    "df['case_material'].fillna('Unknown', inplace=True)\n",
    "df['connectivity'].fillna('Unknown', inplace=True)"
   ]
  },
  {
   "cell_type": "code",
   "execution_count": 13,
   "id": "29dd7e8b",
   "metadata": {},
   "outputs": [],
   "source": [
    "# minor mistake in the above code, lazy fix ^^\n",
    "#df['case_material'].replace(to_replace=\"Unknown\",\n",
    "#         value=\"Unspecified(likely ABS plastic)\", inplace=True)\n",
    "#df['case_material'].replace(to_replace=\"Alu case\",\n",
    "#         value=\"Metal (likely Aluminium)\", inplace=True)\n",
    "#df.tail()\n"
   ]
  },
  {
   "cell_type": "code",
   "execution_count": 14,
   "id": "a2e60247",
   "metadata": {},
   "outputs": [],
   "source": [
    "# # extract brand from title n make a new column\n",
    "# df['brand'] = df['title'].str.split().str[0]\n",
    "# # df.head()\n",
    "\n",
    "# #reorder the columns to make brand go first\n",
    "# df = df[['brand', 'title', 'price', 'layout', 'mount', 'hall_effect', 'hotswap', 'case_material', 'backlight', 'connectivity', 'screen', 'knob']]\n",
    "# df.head()\n",
    "\n"
   ]
  },
  {
   "cell_type": "markdown",
   "id": "1e0c55e4",
   "metadata": {},
   "source": [
    "## assigning brands a category"
   ]
  },
  {
   "cell_type": "code",
   "execution_count": 15,
   "id": "9f51e37d",
   "metadata": {},
   "outputs": [],
   "source": [
    "# categorize brands into pricing tiers (Provided by GPT-4)\n",
    "brand_categories = {\n",
    "    \"premium\": [\n",
    "        \"HHKB\", \"Realforce\", \"Geon\", \"Monokei\", \"Wooting\", \"Ergodox\", \"Keebwerk\",\n",
    "        \"Protozoa\", \"Mechboards\", \"Meletrix\", \"MelGeek\", \"Dygma\", \"Keycult\", \"HIBI\", \"GMK\"\n",
    "    ],\n",
    "    \"midrange\": [\n",
    "        \"Keychron\", \"Akko\", \"Varmilo\", \"Ducky\", \"Leopold\", \"IQUNIX\", \"Glorious\", \"Novelkeys\",\n",
    "        \"Mistel\", \"Tex\", \"Vortex\", \"KBDFans\", \"KBParadise\", \"Nuphy\", \"Epomaker\", \"MelGeek\"\n",
    "    ],\n",
    "    \"budget\": [\n",
    "        \"Ajazz\", \"Redragon\", \"Royalaxe\", \"Feker\", \"Skyloong\", \"Dareu\", \"Delux\", \"Zerodate\",\n",
    "        \"Outemu\", \"Jamesdonkey\", \"Kemove\", \"AULA\", \"Langtu\", \"Womier\", \"Akko\", \"Dagk\", \"GamaKay\",\n",
    "        \"MIIIW\", \"Darmoshark\", \"Monka\", \"Monsgeek\", \"Keydous\", \"Irok\", \"Newmen\", \"Niuniu\"\n",
    "    ]\n",
    "}\n",
    "\n",
    "# Create a mapping from brand name to category (Provided by GPT-4)\n",
    "brand_to_category = {}\n",
    "for category, brands in brand_categories.items():\n",
    "    for brand in brands:\n",
    "        brand_to_category[brand] = category\n",
    "\n",
    "# Default uncategorized brands to 'unknown' (Provided by GPT-4)\n",
    "unique_brands = df['brand'].dropna().unique()\n",
    "for brand in unique_brands:\n",
    "    if brand not in brand_to_category:\n",
    "        brand_to_category[brand] = \"unknown\"\n",
    "\n",
    "# Map the category to the dataframe\n",
    "df['brand_category'] = df['brand'].map(brand_to_category)"
   ]
  },
  {
   "cell_type": "code",
   "execution_count": 16,
   "id": "582cad87",
   "metadata": {},
   "outputs": [
    {
     "data": {
      "text/plain": [
       "array(['unknown', 'budget', 'midrange', 'premium'], dtype=object)"
      ]
     },
     "execution_count": 16,
     "metadata": {},
     "output_type": "execute_result"
    }
   ],
   "source": [
    "# checking the unique values in the brand_category column\n",
    "df['brand_category'].unique()"
   ]
  },
  {
   "cell_type": "code",
   "execution_count": 17,
   "id": "fa56902d",
   "metadata": {},
   "outputs": [
    {
     "data": {
      "text/plain": [
       "array(['0.01', '80retros', '8BitDo', 'ACGAM', 'ATTACK', 'AULA', 'Ace',\n",
       "       'Aesco', 'Aiglatson', 'Ajazz', 'Akko', 'Alpaca', 'Angel', 'Anne',\n",
       "       'Apos', 'Azio', 'BAROCCOMISTEL', 'BASIC', 'Backspace', 'Bat',\n",
       "       'Binepad', 'Black', 'CKW', 'Cerakey', 'Cherry', 'Chilkey', 'Cidoo',\n",
       "       'ColorReco', 'Coolkiller', 'Corsair', 'Createkeebs', 'DOIO',\n",
       "       'Dagk', 'Dareu', 'Daring', 'Darmoshark', 'Deadline', 'Dell',\n",
       "       'Delux', 'Denshi', 'Design', 'Desktop', 'Double', 'DrunkDeer',\n",
       "       'Dskeyboard', 'Ducky', 'Dukharo', 'Durgod', 'Dwarf', 'Dygma',\n",
       "       'Endgame', 'Epomaker', 'Ergodox', 'Everglide', 'Evoworks', 'Fancy',\n",
       "       'Fantech', 'Feker', 'Fiio', 'Filco', 'Firstblood', 'Fly',\n",
       "       'Fl·esports', 'Fopato', 'Furycube', 'GDK', 'GMK', 'GMMK',\n",
       "       'GamaKay', 'Ganss', 'Gateron', 'GeekElite', 'Geeksdontpanic',\n",
       "       'Geon', 'Glorious', 'Gopolar', 'GravaStar', 'HEXCORE', 'HHKB',\n",
       "       'HIBI', 'HMX', 'Haverworks', 'Heavy', 'Helix', 'Hexgears', 'Hiexa',\n",
       "       'Homoo', 'Hyeku', 'IQUNIX', 'Idobao', 'Ikbc', 'Infiverse', 'Irok',\n",
       "       'Jamesdonkey', 'KBDFans', 'KBParadise', 'KEBOHUB', 'KEEBD',\n",
       "       'Kailh', 'Kataaa', 'Kbdcraft', 'Keebwerk', 'Kemove', 'Kenny42',\n",
       "       'Keychron', 'Keycool', 'Keydous', 'KeysMe', 'Kiiboom', 'Knife',\n",
       "       'LANGTU', 'LUMINKEY', 'Lelelab', 'Lenovo', 'Leobog', 'Leopold',\n",
       "       'LingBao', 'Lofree', 'MCHOSE', 'METAPHYUNI', 'MIIIW', 'MIKIT',\n",
       "       'MK', 'MM', 'MMkeyboard', 'Machenike', 'Magicforce', 'Maniac',\n",
       "       'Matias', 'Mechboards', 'Mek', 'Meko', 'MelGeek', 'Meletrix',\n",
       "       'Miel', 'Mistel', 'Modokey', 'Monka', 'Monokei', 'Monsgeek',\n",
       "       'Mxrskey', 'NIUNIU', 'NPK', 'Neo', 'Newmen', 'Newone', 'NextTime',\n",
       "       'Niuniu', 'Niz', 'NlZ', 'Noppoo', 'Novelkeys', 'Nuphy', 'Obinslab',\n",
       "       'Odin', 'Outemu', 'Outva', 'Piifox', 'Play', 'Protozoa', 'Pwnage',\n",
       "       'Qelec.Studio', 'Qwertykeys', 'REDMAGIC', 'RX', 'Razer',\n",
       "       'Realforce', 'Reccazr', 'Redragon', 'Rog', 'Royal', 'Royalaxe',\n",
       "       'Shortcut', 'Shurikey', 'Sikakeyb', 'Skyloong', 'Sp-star',\n",
       "       'Steelseries', 'Sunkey', 'Swagkeys', 'Tech', 'Tex', 'Thunderobot',\n",
       "       'Titan', 'Typone', 'UGREEN', 'VALKYRIE', 'VTER', 'Varmilo',\n",
       "       'Velocifire', 'Vgn', 'Vortex', 'WOBKEY', 'Weikav', 'WhatGeek',\n",
       "       'Whatever', 'Wind', 'Womier', 'Wooting', 'Wuque', 'Wusikey',\n",
       "       'X-Bows', 'XVX', 'Xiaomi', 'Xinmeng', 'Yunzii', 'Zer', 'Zerodate',\n",
       "       'Zuoya', 'dumang', 'grid', 'iBlancod', 'iFLYTEK', 'keyno', 'm.one',\n",
       "       'sam', 'velocifiretech', 'wilba.tech', 'zFrontier'], dtype=object)"
      ]
     },
     "execution_count": 17,
     "metadata": {},
     "output_type": "execute_result"
    }
   ],
   "source": [
    "df['brand'].unique()"
   ]
  },
  {
   "cell_type": "code",
   "execution_count": 18,
   "id": "7238f0ee",
   "metadata": {},
   "outputs": [],
   "source": [
    "# sahaja i want the brand_category to be the first column\n",
    "#df = df[['brand_category','brand', 'title', 'price', 'layout', 'mount', 'hall_effect', 'hotswap', 'case_material', 'backlight', 'connectivity', 'screen', 'knob']]\n"
   ]
  },
  {
   "cell_type": "code",
   "execution_count": 19,
   "id": "637bb768",
   "metadata": {},
   "outputs": [],
   "source": [
    "# save hotfixes to a new dataframe over the CSV file\n",
    "#df.to_csv('keebfinder_keyboards_rev5.csv', index=False)"
   ]
  },
  {
   "cell_type": "markdown",
   "id": "c625eeba",
   "metadata": {},
   "source": [
    "## solving for brands that offer multiple tiers of products, eg high end, low end offerings\n"
   ]
  },
  {
   "cell_type": "code",
   "execution_count": null,
   "id": "32bff6d0",
   "metadata": {},
   "outputs": [],
   "source": [
    "\n",
    "# calculate min and max price per brand\n",
    "#brand_price_stats = df.groupby('brand')['price'].agg(['min', 'max']).reset_index()\n",
    "#brand_price_stats['price_range'] = brand_price_stats['min'].astype(str) + '–' + brand_price_stats['max'].astype(str)\n",
    "\n",
    "# Save the brand_price_stats DataFrame to a CSV file\n",
    "#brand_price_stats.to_csv('brand_price_stats.csv', index=False)"
   ]
  },
  {
   "cell_type": "code",
   "execution_count": null,
   "id": "0ebc86a3",
   "metadata": {},
   "outputs": [
    {
     "data": {
      "text/html": [
       "<div>\n",
       "<style scoped>\n",
       "    .dataframe tbody tr th:only-of-type {\n",
       "        vertical-align: middle;\n",
       "    }\n",
       "\n",
       "    .dataframe tbody tr th {\n",
       "        vertical-align: top;\n",
       "    }\n",
       "\n",
       "    .dataframe thead th {\n",
       "        text-align: right;\n",
       "    }\n",
       "</style>\n",
       "<table border=\"1\" class=\"dataframe\">\n",
       "  <thead>\n",
       "    <tr style=\"text-align: right;\">\n",
       "      <th></th>\n",
       "      <th>brand</th>\n",
       "      <th>min</th>\n",
       "      <th>max</th>\n",
       "      <th>price_range</th>\n",
       "    </tr>\n",
       "  </thead>\n",
       "  <tbody>\n",
       "    <tr>\n",
       "      <th>0</th>\n",
       "      <td>0.01</td>\n",
       "      <td>$59</td>\n",
       "      <td>$59</td>\n",
       "      <td>$59–$59</td>\n",
       "    </tr>\n",
       "    <tr>\n",
       "      <th>1</th>\n",
       "      <td>80retros</td>\n",
       "      <td>$129</td>\n",
       "      <td>$169</td>\n",
       "      <td>$129–$169</td>\n",
       "    </tr>\n",
       "    <tr>\n",
       "      <th>2</th>\n",
       "      <td>8BitDo</td>\n",
       "      <td>$109</td>\n",
       "      <td>$69</td>\n",
       "      <td>$109–$69</td>\n",
       "    </tr>\n",
       "    <tr>\n",
       "      <th>3</th>\n",
       "      <td>ACGAM</td>\n",
       "      <td>$109</td>\n",
       "      <td>$99</td>\n",
       "      <td>$109–$99</td>\n",
       "    </tr>\n",
       "    <tr>\n",
       "      <th>4</th>\n",
       "      <td>ATTACK</td>\n",
       "      <td>$67</td>\n",
       "      <td>$89</td>\n",
       "      <td>$67–$89</td>\n",
       "    </tr>\n",
       "  </tbody>\n",
       "</table>\n",
       "</div>"
      ],
      "text/plain": [
       "      brand   min   max price_range\n",
       "0      0.01   $59   $59     $59–$59\n",
       "1  80retros  $129  $169   $129–$169\n",
       "2    8BitDo  $109   $69    $109–$69\n",
       "3     ACGAM  $109   $99    $109–$99\n",
       "4    ATTACK   $67   $89     $67–$89"
      ]
     },
     "execution_count": 27,
     "metadata": {},
     "output_type": "execute_result"
    }
   ],
   "source": [
    "df_price_stats.head()"
   ]
  },
  {
   "cell_type": "code",
   "execution_count": null,
   "id": "e16f2eb9",
   "metadata": {},
   "outputs": [
    {
     "data": {
      "text/plain": [
       "('$10', '$99')"
      ]
     },
     "execution_count": 28,
     "metadata": {},
     "output_type": "execute_result"
    }
   ],
   "source": [
    "# finding the minimum prices range\n",
    "min_min = df_price_stats['min'].min()\n",
    "max_min = df_price_stats['min'].max()\n",
    "min_min,max_min"
   ]
  },
  {
   "cell_type": "code",
   "execution_count": null,
   "id": "5ca4da56",
   "metadata": {},
   "outputs": [],
   "source": []
  }
 ],
 "metadata": {
  "kernelspec": {
   "display_name": "Python [conda env:ds_ex_2025]",
   "language": "python",
   "name": "conda-env-ds_ex_2025-py"
  }
 },
 "nbformat": 4,
 "nbformat_minor": 5
}

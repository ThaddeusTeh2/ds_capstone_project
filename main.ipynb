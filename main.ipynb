{
 "cells": [
  {
   "cell_type": "markdown",
   "id": "123523aa",
   "metadata": {},
   "source": [
    "# Assessing the Impact of Product Specifications and Brand Origin on the Pricing of Mechanical Keyboards in 2025\n",
    "\n",
    "## Problem Statement\n",
    "Global supply chains have undergone significant political and economic disruption in recent years, particularly in the technology and consumer electronics industries. \n",
    "\n",
    "Mechanical keyboards, an essential component of modern computing and creative work, have become a notable example of how Chinese manufacturers have entered the enthusiast market with competitive alternatives.\n",
    "\n",
    "Historically, branding and Western design heritage contributed greatly to pricing. However, with increased transparency and direct-to-consumer models from Chinese factories, this may no longer hold true.\n",
    "\n",
    "## Goal\n",
    "This project aims to use mechanical keyboard listings as a case study to explore whether technical specifications and country/brand of origin still meaningfully influence pricing in 2025.\n",
    "\n",
    "## Hypothesis\n",
    "H₀ (Null Hypothesis): Product specifications and brand origin (e.g., Chinese vs Western brands) have no significant effect on price.\n",
    "\n",
    "H₁ (Alternative Hypothesis): Product specifications and brand origin significantly affect price.\n",
    "\n",
    "## Objectives\n",
    "- Determine which features (e.g., switch type, brand, layout, connectivity) influence pricing.\n",
    "\n",
    "- Analyze whether branding and origin remain significant predictors of pricing.\n",
    "\n",
    "- Provide insights into broader trends of consumer electronics pricing post-supply-chain globalization.\n",
    "\n"
   ]
  },
  {
   "cell_type": "markdown",
   "id": "217f6e37",
   "metadata": {},
   "source": [
    "# Seeing what data we are working with"
   ]
  },
  {
   "cell_type": "code",
   "execution_count": 1,
   "id": "a3f17b08",
   "metadata": {},
   "outputs": [
    {
     "data": {
      "text/html": [
       "<div>\n",
       "<style scoped>\n",
       "    .dataframe tbody tr th:only-of-type {\n",
       "        vertical-align: middle;\n",
       "    }\n",
       "\n",
       "    .dataframe tbody tr th {\n",
       "        vertical-align: top;\n",
       "    }\n",
       "\n",
       "    .dataframe thead th {\n",
       "        text-align: right;\n",
       "    }\n",
       "</style>\n",
       "<table border=\"1\" class=\"dataframe\">\n",
       "  <thead>\n",
       "    <tr style=\"text-align: right;\">\n",
       "      <th></th>\n",
       "      <th>brand_category</th>\n",
       "      <th>brand</th>\n",
       "      <th>title</th>\n",
       "      <th>price</th>\n",
       "      <th>layout</th>\n",
       "      <th>mount</th>\n",
       "      <th>hall_effect</th>\n",
       "      <th>hotswap</th>\n",
       "      <th>case_material</th>\n",
       "      <th>backlight</th>\n",
       "      <th>connectivity</th>\n",
       "      <th>screen</th>\n",
       "      <th>knob</th>\n",
       "    </tr>\n",
       "  </thead>\n",
       "  <tbody>\n",
       "    <tr>\n",
       "      <th>0</th>\n",
       "      <td>unknown</td>\n",
       "      <td>0.01</td>\n",
       "      <td>0.01 Z62</td>\n",
       "      <td>$59</td>\n",
       "      <td>60%,</td>\n",
       "      <td>Plate Mount</td>\n",
       "      <td>no</td>\n",
       "      <td>no</td>\n",
       "      <td>Alu case,</td>\n",
       "      <td>yes</td>\n",
       "      <td>Wired,</td>\n",
       "      <td>no</td>\n",
       "      <td>no</td>\n",
       "    </tr>\n",
       "    <tr>\n",
       "      <th>1</th>\n",
       "      <td>unknown</td>\n",
       "      <td>0.01</td>\n",
       "      <td>0.01 Z62 Blank Blank</td>\n",
       "      <td>$59</td>\n",
       "      <td>60%,</td>\n",
       "      <td>Plate Mount</td>\n",
       "      <td>no</td>\n",
       "      <td>no</td>\n",
       "      <td>Alu case,</td>\n",
       "      <td>yes</td>\n",
       "      <td>Wired,</td>\n",
       "      <td>no</td>\n",
       "      <td>no</td>\n",
       "    </tr>\n",
       "    <tr>\n",
       "      <th>2</th>\n",
       "      <td>unknown</td>\n",
       "      <td>80retros</td>\n",
       "      <td>80retros GB65 X Click Inc</td>\n",
       "      <td>$169</td>\n",
       "      <td>65%,</td>\n",
       "      <td>Gasket Mount</td>\n",
       "      <td>no</td>\n",
       "      <td>yes</td>\n",
       "      <td>Alu case,</td>\n",
       "      <td>no</td>\n",
       "      <td>Wired,</td>\n",
       "      <td>no</td>\n",
       "      <td>no</td>\n",
       "    </tr>\n",
       "    <tr>\n",
       "      <th>3</th>\n",
       "      <td>unknown</td>\n",
       "      <td>80retros</td>\n",
       "      <td>80retros Pad Numpad X Click Inc</td>\n",
       "      <td>$129</td>\n",
       "      <td>Unknown</td>\n",
       "      <td>Gasket Mount</td>\n",
       "      <td>no</td>\n",
       "      <td>yes</td>\n",
       "      <td>Alu case,</td>\n",
       "      <td>no</td>\n",
       "      <td>Unknown</td>\n",
       "      <td>no</td>\n",
       "      <td>no</td>\n",
       "    </tr>\n",
       "    <tr>\n",
       "      <th>4</th>\n",
       "      <td>unknown</td>\n",
       "      <td>8BitDo</td>\n",
       "      <td>8BitDo Retro</td>\n",
       "      <td>$119</td>\n",
       "      <td>80%,</td>\n",
       "      <td>Top Mount</td>\n",
       "      <td>no</td>\n",
       "      <td>yes</td>\n",
       "      <td>Alu case,</td>\n",
       "      <td>no</td>\n",
       "      <td>Wireless,</td>\n",
       "      <td>no</td>\n",
       "      <td>yes</td>\n",
       "    </tr>\n",
       "  </tbody>\n",
       "</table>\n",
       "</div>"
      ],
      "text/plain": [
       "  brand_category     brand                            title price   layout  \\\n",
       "0        unknown      0.01                         0.01 Z62   $59     60%,   \n",
       "1        unknown      0.01             0.01 Z62 Blank Blank   $59     60%,   \n",
       "2        unknown  80retros        80retros GB65 X Click Inc  $169     65%,   \n",
       "3        unknown  80retros  80retros Pad Numpad X Click Inc  $129  Unknown   \n",
       "4        unknown    8BitDo                     8BitDo Retro  $119     80%,   \n",
       "\n",
       "          mount hall_effect hotswap case_material backlight connectivity  \\\n",
       "0   Plate Mount          no      no     Alu case,       yes       Wired,   \n",
       "1   Plate Mount          no      no     Alu case,       yes       Wired,   \n",
       "2  Gasket Mount          no     yes     Alu case,        no       Wired,   \n",
       "3  Gasket Mount          no     yes     Alu case,        no      Unknown   \n",
       "4     Top Mount          no     yes     Alu case,        no    Wireless,   \n",
       "\n",
       "  screen knob  \n",
       "0     no   no  \n",
       "1     no   no  \n",
       "2     no   no  \n",
       "3     no   no  \n",
       "4     no  yes  "
      ]
     },
     "execution_count": 1,
     "metadata": {},
     "output_type": "execute_result"
    }
   ],
   "source": [
    "import pandas as pd\n",
    "\n",
    "df = pd.read_csv('../ds_capstone_project/keebfinder_keyboards_rev5.csv')\n",
    "df.head()"
   ]
  },
  {
   "cell_type": "code",
   "execution_count": 2,
   "id": "6131a474",
   "metadata": {},
   "outputs": [
    {
     "data": {
      "text/plain": [
       "(2368, 13)"
      ]
     },
     "execution_count": 2,
     "metadata": {},
     "output_type": "execute_result"
    }
   ],
   "source": [
    "df.shape"
   ]
  },
  {
   "cell_type": "code",
   "execution_count": 3,
   "id": "19d6fdbf",
   "metadata": {},
   "outputs": [
    {
     "data": {
      "text/plain": [
       "brand_category    0\n",
       "brand             0\n",
       "title             0\n",
       "price             0\n",
       "layout            0\n",
       "mount             0\n",
       "hall_effect       0\n",
       "hotswap           0\n",
       "case_material     0\n",
       "backlight         0\n",
       "connectivity      0\n",
       "screen            0\n",
       "knob              0\n",
       "dtype: int64"
      ]
     },
     "execution_count": 3,
     "metadata": {},
     "output_type": "execute_result"
    }
   ],
   "source": [
    "df.isna().sum()"
   ]
  },
  {
   "cell_type": "markdown",
   "id": "6d2f896d",
   "metadata": {},
   "source": [
    "## Preprocessing\n",
    "- knowing there are missing values, determine what they are and deal with them"
   ]
  },
  {
   "cell_type": "code",
   "execution_count": 4,
   "id": "20964dda",
   "metadata": {},
   "outputs": [
    {
     "data": {
      "text/plain": [
       "array(['60%,', '65%,', 'Unknown', '80%,', '100%,', '75%,', '96%,', '98%,',\n",
       "       '95%,', '40%,', '68%,', '60%', '64%,', '66%,', '85%,', '90%,',\n",
       "       '70%,', '97%,', '80%', '40%', '65%', '50%,', '100%', '87%,', '75%',\n",
       "       '78%,', '84%,'], dtype=object)"
      ]
     },
     "execution_count": 4,
     "metadata": {},
     "output_type": "execute_result"
    }
   ],
   "source": [
    "# check for all the missing values in the layout column\n",
    "df['layout'].unique()"
   ]
  },
  {
   "cell_type": "code",
   "execution_count": 5,
   "id": "45677ada",
   "metadata": {},
   "outputs": [
    {
     "data": {
      "text/plain": [
       "array(['Plate Mount', 'Gasket Mount', 'Top Mount', 'Unknown',\n",
       "       'Tray Mount', 'Sandwich Mount', 'Bottom Mount', 'PCB Mount'],\n",
       "      dtype=object)"
      ]
     },
     "execution_count": 5,
     "metadata": {},
     "output_type": "execute_result"
    }
   ],
   "source": [
    "#check for all the unique values in the mount column\n",
    "df['mount'].unique()"
   ]
  },
  {
   "cell_type": "code",
   "execution_count": 6,
   "id": "233bf6f1",
   "metadata": {},
   "outputs": [
    {
     "data": {
      "text/plain": [
       "array(['Alu case,', 'Unspecified(likely ABS plastic)',\n",
       "       'Metal (likely Aluminium)', 'PCB Mount'], dtype=object)"
      ]
     },
     "execution_count": 6,
     "metadata": {},
     "output_type": "execute_result"
    }
   ],
   "source": [
    "#check for all the unique values in the case_material column\n",
    "df['case_material'].unique()"
   ]
  },
  {
   "cell_type": "code",
   "execution_count": 7,
   "id": "ef6aa6be",
   "metadata": {},
   "outputs": [
    {
     "data": {
      "text/plain": [
       "array(['Wired,', 'Unknown', 'Wireless,', 'Wireless', 'Wired'],\n",
       "      dtype=object)"
      ]
     },
     "execution_count": 7,
     "metadata": {},
     "output_type": "execute_result"
    }
   ],
   "source": [
    "# check for all the unique values in the 'connectivity' column\n",
    "df['connectivity'].unique()"
   ]
  },
  {
   "cell_type": "code",
   "execution_count": 8,
   "id": "7429c010",
   "metadata": {},
   "outputs": [
    {
     "name": "stderr",
     "output_type": "stream",
     "text": [
      "/var/folders/04/wngkl13j3hj0s528zj5lpnj00000gn/T/ipykernel_6497/2699668920.py:2: FutureWarning: A value is trying to be set on a copy of a DataFrame or Series through chained assignment using an inplace method.\n",
      "The behavior will change in pandas 3.0. This inplace method will never work because the intermediate object on which we are setting values always behaves as a copy.\n",
      "\n",
      "For example, when doing 'df[col].method(value, inplace=True)', try using 'df.method({col: value}, inplace=True)' or df[col] = df[col].method(value) instead, to perform the operation inplace on the original object.\n",
      "\n",
      "\n",
      "  df['layout'].fillna('Unknown', inplace=True)\n",
      "/var/folders/04/wngkl13j3hj0s528zj5lpnj00000gn/T/ipykernel_6497/2699668920.py:3: FutureWarning: A value is trying to be set on a copy of a DataFrame or Series through chained assignment using an inplace method.\n",
      "The behavior will change in pandas 3.0. This inplace method will never work because the intermediate object on which we are setting values always behaves as a copy.\n",
      "\n",
      "For example, when doing 'df[col].method(value, inplace=True)', try using 'df.method({col: value}, inplace=True)' or df[col] = df[col].method(value) instead, to perform the operation inplace on the original object.\n",
      "\n",
      "\n",
      "  df['mount'].fillna('Unknown', inplace=True)\n",
      "/var/folders/04/wngkl13j3hj0s528zj5lpnj00000gn/T/ipykernel_6497/2699668920.py:4: FutureWarning: A value is trying to be set on a copy of a DataFrame or Series through chained assignment using an inplace method.\n",
      "The behavior will change in pandas 3.0. This inplace method will never work because the intermediate object on which we are setting values always behaves as a copy.\n",
      "\n",
      "For example, when doing 'df[col].method(value, inplace=True)', try using 'df.method({col: value}, inplace=True)' or df[col] = df[col].method(value) instead, to perform the operation inplace on the original object.\n",
      "\n",
      "\n",
      "  df['case_material'].fillna('Unknown', inplace=True)\n",
      "/var/folders/04/wngkl13j3hj0s528zj5lpnj00000gn/T/ipykernel_6497/2699668920.py:5: FutureWarning: A value is trying to be set on a copy of a DataFrame or Series through chained assignment using an inplace method.\n",
      "The behavior will change in pandas 3.0. This inplace method will never work because the intermediate object on which we are setting values always behaves as a copy.\n",
      "\n",
      "For example, when doing 'df[col].method(value, inplace=True)', try using 'df.method({col: value}, inplace=True)' or df[col] = df[col].method(value) instead, to perform the operation inplace on the original object.\n",
      "\n",
      "\n",
      "  df['connectivity'].fillna('Unknown', inplace=True)\n"
     ]
    }
   ],
   "source": [
    "# fill missing values with 'Unknown' for categorical columns\n",
    "df['layout'].fillna('Unknown', inplace=True)\n",
    "df['mount'].fillna('Unknown', inplace=True)\n",
    "df['case_material'].fillna('Unknown', inplace=True)\n",
    "df['connectivity'].fillna('Unknown', inplace=True)"
   ]
  },
  {
   "cell_type": "code",
   "execution_count": 9,
   "id": "29dd7e8b",
   "metadata": {},
   "outputs": [],
   "source": [
    "# minor mistake in the above code, lazy fix ^^\n",
    "#df['case_material'].replace(to_replace=\"Unknown\",\n",
    "#          value=\"Unspecified(likely ABS plastic)\", inplace=True)\n",
    "#df['case_material'].replace(to_replace=\"Alu case\",\n",
    "#          value=\"Metal (likely Aluminium)\", inplace=True)\n",
    "#df.tail()\n"
   ]
  },
  {
   "cell_type": "code",
   "execution_count": 10,
   "id": "a2e60247",
   "metadata": {},
   "outputs": [],
   "source": [
    "# # extract brand from title n make a new column\n",
    "# df['brand'] = df['title'].str.split().str[0]\n",
    "# # df.head()\n",
    "\n",
    "# #reorder the columns to make brand go first\n",
    "# df = df[['brand', 'title', 'price', 'layout', 'mount', 'hall_effect', 'hotswap', 'case_material', 'backlight', 'connectivity', 'screen', 'knob']]\n",
    "# df.head()\n",
    "\n"
   ]
  },
  {
   "cell_type": "markdown",
   "id": "1e0c55e4",
   "metadata": {},
   "source": [
    "## assigning brands a category"
   ]
  },
  {
   "cell_type": "code",
   "execution_count": 11,
   "id": "9f51e37d",
   "metadata": {},
   "outputs": [],
   "source": [
    "# categorize brands into pricing tiers (Provided by GPT-4)\n",
    "brand_categories = {\n",
    "    \"premium\": [\n",
    "        \"HHKB\", \"Realforce\", \"Geon\", \"Monokei\", \"Wooting\", \"Ergodox\", \"Keebwerk\",\n",
    "        \"Protozoa\", \"Mechboards\", \"Meletrix\", \"MelGeek\", \"Dygma\", \"Keycult\", \"HIBI\", \"GMK\"\n",
    "    ],\n",
    "    \"midrange\": [\n",
    "        \"Keychron\", \"Akko\", \"Varmilo\", \"Ducky\", \"Leopold\", \"IQUNIX\", \"Glorious\", \"Novelkeys\",\n",
    "        \"Mistel\", \"Tex\", \"Vortex\", \"KBDFans\", \"KBParadise\", \"Nuphy\", \"Epomaker\", \"MelGeek\"\n",
    "    ],\n",
    "    \"budget\": [\n",
    "        \"Ajazz\", \"Redragon\", \"Royalaxe\", \"Feker\", \"Skyloong\", \"Dareu\", \"Delux\", \"Zerodate\",\n",
    "        \"Outemu\", \"Jamesdonkey\", \"Kemove\", \"AULA\", \"Langtu\", \"Womier\", \"Akko\", \"Dagk\", \"GamaKay\",\n",
    "        \"MIIIW\", \"Darmoshark\", \"Monka\", \"Monsgeek\", \"Keydous\", \"Irok\", \"Newmen\", \"Niuniu\"\n",
    "    ]\n",
    "}\n",
    "\n",
    "# Create a mapping from brand name to category (Provided by GPT-4)\n",
    "brand_to_category = {}\n",
    "for category, brands in brand_categories.items():\n",
    "    for brand in brands:\n",
    "        brand_to_category[brand] = category\n",
    "\n",
    "# Default uncategorized brands to 'unknown' (Provided by GPT-4)\n",
    "unique_brands = df['brand'].dropna().unique()\n",
    "for brand in unique_brands:\n",
    "    if brand not in brand_to_category:\n",
    "        brand_to_category[brand] = \"unknown\"\n",
    "\n",
    "# Map the category to the dataframe\n",
    "df['brand_category'] = df['brand'].map(brand_to_category)"
   ]
  },
  {
   "cell_type": "code",
   "execution_count": 12,
   "id": "582cad87",
   "metadata": {},
   "outputs": [
    {
     "data": {
      "text/plain": [
       "array(['unknown', 'budget', 'midrange', 'premium'], dtype=object)"
      ]
     },
     "execution_count": 12,
     "metadata": {},
     "output_type": "execute_result"
    }
   ],
   "source": [
    "df['brand_category'].unique()"
   ]
  },
  {
   "cell_type": "code",
   "execution_count": 13,
   "id": "7238f0ee",
   "metadata": {},
   "outputs": [],
   "source": [
    "# sahaja i want the brand_category to be the first column\n",
    "#df = df[['brand_category','brand', 'title', 'price', 'layout', 'mount', 'hall_effect', 'hotswap', 'case_material', 'backlight', 'connectivity', 'screen', 'knob']]\n"
   ]
  },
  {
   "cell_type": "code",
   "execution_count": 14,
   "id": "637bb768",
   "metadata": {},
   "outputs": [],
   "source": [
    "# save hotfixes to a new dataframe over the CSV file\n",
    "#df.to_csv('keebfinder_keyboards_rev5.csv', index=False)"
   ]
  },
  {
   "cell_type": "code",
   "execution_count": null,
   "id": "32bff6d0",
   "metadata": {},
   "outputs": [],
   "source": []
  }
 ],
 "metadata": {
  "kernelspec": {
   "display_name": "base",
   "language": "python",
   "name": "python3"
  },
  "language_info": {
   "codemirror_mode": {
    "name": "ipython",
    "version": 3
   },
   "file_extension": ".py",
   "mimetype": "text/x-python",
   "name": "python",
   "nbconvert_exporter": "python",
   "pygments_lexer": "ipython3",
   "version": "3.12.2"
  }
 },
 "nbformat": 4,
 "nbformat_minor": 5
}

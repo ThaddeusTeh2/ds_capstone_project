{
 "cells": [
  {
   "cell_type": "markdown",
   "id": "123523aa",
   "metadata": {},
   "source": [
    "# Assessing the Impact of Product Specifications and Brand Origin on the Pricing of Mechanical Keyboards in 2025\n",
    "\n",
    "## Problem Statement\n",
    "Global supply chains have undergone significant political and economic disruption in recent years, particularly in the technology and consumer electronics industries. \n",
    "\n",
    "Mechanical keyboards, an essential component of modern computing and creative work, have become a notable example of how Chinese manufacturers have entered the enthusiast market with competitive alternatives.\n",
    "\n",
    "Historically, branding and Western design heritage contributed greatly to pricing. However, with increased transparency and direct-to-consumer models from Chinese factories, this may no longer hold true.\n",
    "\n",
    "## Goal\n",
    "This project aims to use mechanical keyboard listings as a case study to explore whether technical specifications and country/brand of origin still meaningfully influence pricing in 2025.\n",
    "\n",
    "## Hypothesis\n",
    "H₀ (Null Hypothesis): Product specifications and brand origin (e.g., Chinese vs Western brands) have no significant effect on price.\n",
    "\n",
    "H₁ (Alternative Hypothesis): Product specifications and brand origin significantly affect price.\n",
    "\n",
    "## Objectives\n",
    "- Determine which features (e.g., switch type, brand, layout, connectivity) influence pricing.\n",
    "\n",
    "- Analyze whether branding and origin remain significant predictors of pricing.\n",
    "\n",
    "- Provide insights into broader trends of consumer electronics pricing post-supply-chain globalization.\n",
    "\n"
   ]
  },
  {
   "cell_type": "code",
   "execution_count": null,
   "id": "bdcfd977",
   "metadata": {},
   "outputs": [],
   "source": []
  },
  {
   "cell_type": "markdown",
   "id": "217f6e37",
   "metadata": {},
   "source": [
    "# Seeing what data we are working with"
   ]
  },
  {
   "cell_type": "code",
   "execution_count": 10,
   "id": "a3f17b08",
   "metadata": {},
   "outputs": [
    {
     "data": {
      "text/html": [
       "<div>\n",
       "<style scoped>\n",
       "    .dataframe tbody tr th:only-of-type {\n",
       "        vertical-align: middle;\n",
       "    }\n",
       "\n",
       "    .dataframe tbody tr th {\n",
       "        vertical-align: top;\n",
       "    }\n",
       "\n",
       "    .dataframe thead th {\n",
       "        text-align: right;\n",
       "    }\n",
       "</style>\n",
       "<table border=\"1\" class=\"dataframe\">\n",
       "  <thead>\n",
       "    <tr style=\"text-align: right;\">\n",
       "      <th></th>\n",
       "      <th>title</th>\n",
       "      <th>price</th>\n",
       "      <th>layout</th>\n",
       "      <th>mount</th>\n",
       "      <th>hall_effect</th>\n",
       "      <th>hotswap</th>\n",
       "      <th>case_material</th>\n",
       "      <th>backlight</th>\n",
       "      <th>connectivity</th>\n",
       "      <th>screen</th>\n",
       "      <th>knob</th>\n",
       "    </tr>\n",
       "  </thead>\n",
       "  <tbody>\n",
       "    <tr>\n",
       "      <th>0</th>\n",
       "      <td>0.01 Z62</td>\n",
       "      <td>$59</td>\n",
       "      <td>60%,</td>\n",
       "      <td>Plate Mount</td>\n",
       "      <td>no</td>\n",
       "      <td>no</td>\n",
       "      <td>Alu case,</td>\n",
       "      <td>yes</td>\n",
       "      <td>Wired,</td>\n",
       "      <td>no</td>\n",
       "      <td>no</td>\n",
       "    </tr>\n",
       "    <tr>\n",
       "      <th>1</th>\n",
       "      <td>0.01 Z62 Blank Blank</td>\n",
       "      <td>$59</td>\n",
       "      <td>60%,</td>\n",
       "      <td>Plate Mount</td>\n",
       "      <td>no</td>\n",
       "      <td>no</td>\n",
       "      <td>Alu case,</td>\n",
       "      <td>yes</td>\n",
       "      <td>Wired,</td>\n",
       "      <td>no</td>\n",
       "      <td>no</td>\n",
       "    </tr>\n",
       "    <tr>\n",
       "      <th>2</th>\n",
       "      <td>80retros GB65 X Click Inc</td>\n",
       "      <td>$169</td>\n",
       "      <td>65%,</td>\n",
       "      <td>Gasket Mount</td>\n",
       "      <td>no</td>\n",
       "      <td>yes</td>\n",
       "      <td>Alu case,</td>\n",
       "      <td>no</td>\n",
       "      <td>Wired,</td>\n",
       "      <td>no</td>\n",
       "      <td>no</td>\n",
       "    </tr>\n",
       "    <tr>\n",
       "      <th>3</th>\n",
       "      <td>80retros Pad Numpad X Click Inc</td>\n",
       "      <td>$129</td>\n",
       "      <td>NaN</td>\n",
       "      <td>Gasket Mount</td>\n",
       "      <td>no</td>\n",
       "      <td>yes</td>\n",
       "      <td>Alu case,</td>\n",
       "      <td>no</td>\n",
       "      <td>NaN</td>\n",
       "      <td>no</td>\n",
       "      <td>no</td>\n",
       "    </tr>\n",
       "    <tr>\n",
       "      <th>4</th>\n",
       "      <td>8BitDo Retro</td>\n",
       "      <td>$119</td>\n",
       "      <td>80%,</td>\n",
       "      <td>Top Mount</td>\n",
       "      <td>no</td>\n",
       "      <td>yes</td>\n",
       "      <td>Alu case,</td>\n",
       "      <td>no</td>\n",
       "      <td>Wireless,</td>\n",
       "      <td>no</td>\n",
       "      <td>yes</td>\n",
       "    </tr>\n",
       "  </tbody>\n",
       "</table>\n",
       "</div>"
      ],
      "text/plain": [
       "                             title price layout         mount hall_effect  \\\n",
       "0                         0.01 Z62   $59   60%,   Plate Mount          no   \n",
       "1             0.01 Z62 Blank Blank   $59   60%,   Plate Mount          no   \n",
       "2        80retros GB65 X Click Inc  $169   65%,  Gasket Mount          no   \n",
       "3  80retros Pad Numpad X Click Inc  $129    NaN  Gasket Mount          no   \n",
       "4                     8BitDo Retro  $119   80%,     Top Mount          no   \n",
       "\n",
       "  hotswap case_material backlight connectivity screen knob  \n",
       "0      no     Alu case,       yes       Wired,     no   no  \n",
       "1      no     Alu case,       yes       Wired,     no   no  \n",
       "2     yes     Alu case,        no       Wired,     no   no  \n",
       "3     yes     Alu case,        no          NaN     no   no  \n",
       "4     yes     Alu case,        no    Wireless,     no  yes  "
      ]
     },
     "execution_count": 10,
     "metadata": {},
     "output_type": "execute_result"
    }
   ],
   "source": [
    "import pandas as pd\n",
    "\n",
    "df = pd.read_csv('../ds_capstone_project/keebfinder_keyboards2.csv')\n",
    "df.head()"
   ]
  },
  {
   "cell_type": "code",
   "execution_count": 3,
   "id": "6131a474",
   "metadata": {},
   "outputs": [
    {
     "data": {
      "text/plain": [
       "(2368, 11)"
      ]
     },
     "execution_count": 3,
     "metadata": {},
     "output_type": "execute_result"
    }
   ],
   "source": [
    "df.shape"
   ]
  },
  {
   "cell_type": "code",
   "execution_count": 4,
   "id": "19d6fdbf",
   "metadata": {},
   "outputs": [
    {
     "data": {
      "text/plain": [
       "title               0\n",
       "price               0\n",
       "layout            223\n",
       "mount             599\n",
       "hall_effect         0\n",
       "hotswap             0\n",
       "case_material    1357\n",
       "backlight           0\n",
       "connectivity      254\n",
       "screen              0\n",
       "knob                0\n",
       "dtype: int64"
      ]
     },
     "execution_count": 4,
     "metadata": {},
     "output_type": "execute_result"
    }
   ],
   "source": [
    "df.isna().sum()"
   ]
  },
  {
   "cell_type": "markdown",
   "id": "6d2f896d",
   "metadata": {},
   "source": [
    "## knowing there are missing values, determine what they are and deal with them"
   ]
  },
  {
   "cell_type": "code",
   "execution_count": 12,
   "id": "20964dda",
   "metadata": {},
   "outputs": [
    {
     "data": {
      "text/plain": [
       "array(['60%,', '65%,', nan, '80%,', '100%,', '75%,', '96%,', '98%,',\n",
       "       '95%,', '40%,', '68%,', '60%', '64%,', '66%,', '85%,', '90%,',\n",
       "       '70%,', '97%,', '80%', '40%', '65%', '50%,', '100%', '87%,', '75%',\n",
       "       '78%,', '84%,'], dtype=object)"
      ]
     },
     "execution_count": 12,
     "metadata": {},
     "output_type": "execute_result"
    }
   ],
   "source": [
    "df['layout'].unique()"
   ]
  },
  {
   "cell_type": "code",
   "execution_count": 13,
   "id": "45677ada",
   "metadata": {},
   "outputs": [
    {
     "data": {
      "text/plain": [
       "array(['Plate Mount', 'Gasket Mount', 'Top Mount', nan, 'Tray Mount',\n",
       "       'Sandwich Mount', 'Bottom Mount', 'PCB Mount'], dtype=object)"
      ]
     },
     "execution_count": 13,
     "metadata": {},
     "output_type": "execute_result"
    }
   ],
   "source": [
    "df['mount'].unique()"
   ]
  },
  {
   "cell_type": "code",
   "execution_count": 11,
   "id": "233bf6f1",
   "metadata": {},
   "outputs": [
    {
     "data": {
      "text/plain": [
       "array(['Alu case,', nan, 'Alu case', 'PCB Mount'], dtype=object)"
      ]
     },
     "execution_count": 11,
     "metadata": {},
     "output_type": "execute_result"
    }
   ],
   "source": [
    "df['case_material'].unique()"
   ]
  },
  {
   "cell_type": "code",
   "execution_count": 14,
   "id": "ef6aa6be",
   "metadata": {},
   "outputs": [
    {
     "data": {
      "text/plain": [
       "array(['Wired,', nan, 'Wireless,', 'Wireless', 'Wired'], dtype=object)"
      ]
     },
     "execution_count": 14,
     "metadata": {},
     "output_type": "execute_result"
    }
   ],
   "source": [
    "df['connectivity'].unique()"
   ]
  },
  {
   "cell_type": "code",
   "execution_count": null,
   "id": "7429c010",
   "metadata": {},
   "outputs": [],
   "source": [
    "df['layout'].fillna('Unknown', inplace=True)\n",
    "df['mount'].fillna('Unknown', inplace=True)\n",
    "df['case_material'].fillna('Unknown', inplace=True)\n",
    "df['connectivity'].fillna('Unknown', inplace=True)"
   ]
  }
 ],
 "metadata": {
  "kernelspec": {
   "display_name": "base",
   "language": "python",
   "name": "python3"
  },
  "language_info": {
   "codemirror_mode": {
    "name": "ipython",
    "version": 3
   },
   "file_extension": ".py",
   "mimetype": "text/x-python",
   "name": "python",
   "nbconvert_exporter": "python",
   "pygments_lexer": "ipython3",
   "version": "3.12.2"
  }
 },
 "nbformat": 4,
 "nbformat_minor": 5
}

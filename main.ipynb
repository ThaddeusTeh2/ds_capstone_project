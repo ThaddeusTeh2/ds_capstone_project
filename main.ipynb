{
 "cells": [
  {
   "cell_type": "markdown",
   "id": "123523aa",
   "metadata": {},
   "source": [
    "# Assessing the Impact of Product Specifications and Brand Origin on the Pricing of Mechanical Keyboards in 2025\n",
    "\n",
    "## Problem Statement\n",
    "Global supply chains have undergone significant political and economic disruption in recent years, particularly in the technology and consumer electronics industries. \n",
    "\n",
    "Mechanical keyboards, an essential component of modern computing and creative work, have become a notable example of how Chinese manufacturers have entered the enthusiast market with competitive alternatives.\n",
    "\n",
    "Historically, branding and Western design heritage contributed greatly to pricing. However, with increased transparency and direct-to-consumer models from Chinese factories, this may no longer hold true.\n",
    "\n",
    "## Goal\n",
    "This project aims to use mechanical keyboard listings as a case study to explore whether technical specifications and country/brand of origin still meaningfully influence pricing in 2025.\n",
    "\n",
    "## Hypothesis\n",
    "H₀ (Null Hypothesis): Product specifications and brand origin (e.g., Chinese vs Western brands) have no significant effect on price.\n",
    "\n",
    "H₁ (Alternative Hypothesis): Product specifications and brand origin significantly affect price.\n",
    "\n",
    "## Objectives\n",
    "- Determine which features (e.g., switch type, brand, layout, connectivity) influence pricing.\n",
    "\n",
    "- Analyze whether branding and origin remain significant predictors of pricing.\n",
    "\n",
    "- Provide insights into broader trends of consumer electronics pricing post-supply-chain globalization.\n",
    "\n"
   ]
  },
  {
   "cell_type": "markdown",
   "id": "217f6e37",
   "metadata": {},
   "source": [
    "# Seeing what data we are working with"
   ]
  },
  {
   "cell_type": "code",
   "execution_count": null,
   "id": "a3f17b08",
   "metadata": {},
   "outputs": [],
   "source": [
    "import pandas as pd\n",
    "\n",
    "df = pd.read_csv('keebfinder_keyboards_rev8.csv')\n"
   ]
  },
  {
   "cell_type": "code",
   "execution_count": 2,
   "id": "6131a474",
   "metadata": {},
   "outputs": [
    {
     "data": {
      "text/plain": [
       "(2368, 13)"
      ]
     },
     "execution_count": 2,
     "metadata": {},
     "output_type": "execute_result"
    }
   ],
   "source": [
    "df.shape"
   ]
  },
  {
   "cell_type": "code",
   "execution_count": 3,
   "id": "19d6fdbf",
   "metadata": {},
   "outputs": [
    {
     "data": {
      "text/plain": [
       "category         0\n",
       "brand            0\n",
       "title            0\n",
       "price            0\n",
       "layout           0\n",
       "mount            0\n",
       "hall_effect      0\n",
       "hotswap          0\n",
       "case_material    0\n",
       "backlight        0\n",
       "connectivity     0\n",
       "screen           0\n",
       "knob             0\n",
       "dtype: int64"
      ]
     },
     "execution_count": 3,
     "metadata": {},
     "output_type": "execute_result"
    }
   ],
   "source": [
    "df.isna().sum()"
   ]
  },
  {
   "cell_type": "markdown",
   "id": "6d2f896d",
   "metadata": {},
   "source": [
    "## Preprocessing\n",
    "- knowing there are missing values, determine what they are and deal with them"
   ]
  },
  {
   "cell_type": "code",
   "execution_count": null,
   "id": "20964dda",
   "metadata": {},
   "outputs": [],
   "source": [
    "# check for all the missing values in the layout column\n",
    "df['layout'].unique()"
   ]
  },
  {
   "cell_type": "code",
   "execution_count": null,
   "id": "6e37039e",
   "metadata": {},
   "outputs": [],
   "source": [
    "#df['layout'] = df['layout'].str.replace(',', '')"
   ]
  },
  {
   "cell_type": "code",
   "execution_count": null,
   "id": "45677ada",
   "metadata": {},
   "outputs": [],
   "source": [
    "#check for all the unique values in the mount column\n",
    "df['mount'].unique()"
   ]
  },
  {
   "cell_type": "code",
   "execution_count": null,
   "id": "fff95a82",
   "metadata": {},
   "outputs": [],
   "source": [
    "#df['mount'] = df['mount'].str.replace(',', '')"
   ]
  },
  {
   "cell_type": "code",
   "execution_count": null,
   "id": "2e375960",
   "metadata": {},
   "outputs": [],
   "source": [
    "df['case_material'].unique()"
   ]
  },
  {
   "cell_type": "code",
   "execution_count": null,
   "id": "d1599118",
   "metadata": {},
   "outputs": [],
   "source": [
    "#df['case_material'] = df['case_material'].str.replace(',', '')"
   ]
  },
  {
   "cell_type": "code",
   "execution_count": null,
   "id": "ef6aa6be",
   "metadata": {},
   "outputs": [],
   "source": [
    "# check for all the unique values in the 'connectivity' column\n",
    "df['connectivity'].unique()"
   ]
  },
  {
   "cell_type": "code",
   "execution_count": null,
   "id": "465fae28",
   "metadata": {},
   "outputs": [],
   "source": [
    "#df['connectivity'] = df['connectivity'].str.replace(',', '')"
   ]
  },
  {
   "cell_type": "code",
   "execution_count": null,
   "id": "7429c010",
   "metadata": {},
   "outputs": [],
   "source": [
    "# fill missing values with 'Unknown' for categorical columns\n",
    "df['layout'].fillna('Unknown', inplace=True)\n",
    "df['mount'].fillna('Unknown', inplace=True)\n",
    "df['case_material'].fillna('Unknown', inplace=True)\n",
    "df['connectivity'].fillna('Unknown', inplace=True)"
   ]
  },
  {
   "cell_type": "code",
   "execution_count": null,
   "id": "29dd7e8b",
   "metadata": {},
   "outputs": [],
   "source": [
    "# minor mistake in the above code, lazy fix ^^\n",
    "#df['case_material'].replace(to_replace=\"Unknown\",\n",
    "#         value=\"Unspecified(likely ABS plastic)\", inplace=True)\n",
    "#df['case_material'].replace(to_replace=\"Alu case\",\n",
    "#         value=\"Metal (likely Aluminium)\", inplace=True)\n",
    "#df.tail()\n"
   ]
  },
  {
   "cell_type": "code",
   "execution_count": null,
   "id": "a2e60247",
   "metadata": {},
   "outputs": [],
   "source": [
    "# # extract brand from title n make a new column\n",
    "# df['brand'] = df['title'].str.split().str[0]\n",
    "# # df.head()\n",
    "\n",
    "# #reorder the columns to make brand go first\n",
    "# df = df[['brand', 'title', 'price', 'layout', 'mount', 'hall_effect', 'hotswap', 'case_material', 'backlight', 'connectivity', 'screen', 'knob']]\n",
    "# df.head()\n",
    "\n"
   ]
  },
  {
   "cell_type": "markdown",
   "id": "509abff1",
   "metadata": {},
   "source": [
    "# categorizing brands"
   ]
  },
  {
   "cell_type": "markdown",
   "metadata": {},
   "source": [
    "## Price-Based Categorization with Brand Context\n",
    "\n",
    "Calculate the average price for each brand\n",
    "\n",
    "Calculate the price range (min, max, standard deviation) for each brand\n",
    "\n",
    "Use these metrics to categorize brands\n",
    "\n",
    "This would help account for brands that offer both high-end and budget options. For example:\n",
    "- If a brand's average price is high but has a wide range, it might be a \"premium\" brand that also offers budget options\n",
    "- If a brand's average price is low with a narrow range, it's likely a \"budget\" brand\n",
    "- If a brand's average price is moderate with some variation, it might be \"midrange\"\n",
    "## Price Tiers by Feature Set\n",
    "Define price tiers based on feature combinations (e.g., hotswap + aluminum case + wireless = premium features)\n",
    "Compare a keyboard's price to what would be expected given its features\n",
    "Use this \"price-to-feature ratio\" to categorize brands"
   ]
  },
  {
   "cell_type": "code",
   "execution_count": null,
   "id": "881ec360",
   "metadata": {},
   "outputs": [],
   "source": [
    "# df = df.drop('brand_category', axis=1)\n",
    "\n",
    "# df.to_csv('keebfinder_keyboards_rev7.csv', index=False)\n",
    "\n",
    "# #new brand categorization approach (!GPT SUGGESTION)\n",
    "# # Calculate brand statistics (!GPT CODE)\n",
    "# brand_stats = df.groupby('brand').agg({\n",
    "#     'price': ['mean', 'min', 'max', 'std', 'count']\n",
    "# }).reset_index()\n",
    "\n",
    "# # name cols\n",
    "# brand_stats.columns = ['brand', 'avg_price', 'min_price', 'max_price', 'price_std', 'product_count']\n",
    "\n",
    "# # Calculate price percentiles for the entire dataset (!GPT CODE)\n",
    "# # First, convert price strings to numeric values (removing '$' and ',' characters)\n",
    "\n",
    "# df['price_numeric'] = df['price'].str.replace('$', '').str.replace(',', '').astype(float)\n",
    "# price_percentiles = df['price_numeric'].quantile([0.33, 0.66])\n",
    "\n",
    "# # Define brand categories based on multiple metrics (!GPT SUGGESTION)\n",
    "# def categorize_brand(row):\n",
    "#     avg_price = row['avg_price']\n",
    "#     price_std = row['price_std']\n",
    "#     price_range = row['max_price'] - row['min_price']\n",
    "    \n",
    "#     # Premium: High average price OR wide price range with high max\n",
    "\n",
    "#     if avg_price > price_percentiles[0.66] or (price_range > 100 and row['max_price'] > price_percentiles[0.66]):\n",
    "#         return 'premium'\n",
    "#     # Budget: Low average price AND narrow price range\n",
    "\n",
    "#     elif avg_price < price_percentiles[0.33] and price_range < 50:\n",
    "#         return 'budget'\n",
    "#     # Midrange: Everything else\n",
    "\n",
    "#     else:\n",
    "#         return 'midrange'\n",
    "\n",
    "# # apply categorization\n",
    "# brand_stats['category'] = brand_stats.apply(categorize_brand, axis=1)\n",
    "\n",
    "# # results\n",
    "# print(\"\\nPrice Percentiles:\")\n",
    "# print(f\"33rd percentile: ${price_percentiles[0.33]:.2f}\")\n",
    "# print(f\"66th percentile: ${price_percentiles[0.66]:.2f}\")\n",
    "\n",
    "# print(\"\\nBrand Categories:\")\n",
    "# print(brand_stats[['brand', 'category', 'avg_price', 'min_price', 'max_price', 'product_count']].sort_values('avg_price', ascending=False))\n",
    "\n",
    "# # ddd category back to main dataframe\n",
    "# df = df.merge(brand_stats[['brand', 'category']], on='brand', how='left')\n",
    "\n",
    "# sahaja i want the brand_category to be the first column\n",
    "#df = df[['brand_category','brand', 'title', 'price', 'layout', 'mount', 'hall_effect', 'hotswap', 'case_material', 'backlight', 'connectivity', 'screen', 'knob']]\n",
    "\n",
    "# Save the new categorized dataset\n",
    "#df.to_csv('keebfinder_keyboards_rev8.csv', index=False)"
   ]
  }
 ],
 "metadata": {
  "kernelspec": {
   "display_name": "base",
   "language": "python",
   "name": "python3"
  },
  "language_info": {
   "name": "python",
   "version": "3.12.2"
  }
 },
 "nbformat": 4,
 "nbformat_minor": 5
}
